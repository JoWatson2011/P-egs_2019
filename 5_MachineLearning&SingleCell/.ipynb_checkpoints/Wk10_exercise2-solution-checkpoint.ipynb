{
 "cells": [
  {
   "cell_type": "markdown",
   "metadata": {},
   "source": [
    "# Visualisation of single-cell expression data using PCA\n",
    "In this lab you will use PCA to visualise some single-cell gene expression data from Guo et al. \"Resolution of Cell Fate Decisions Revealed by Single-Cell Gene Expression Analysis from Zygote to Blastocyst\" Developmental Cell, Volume 18, Issue 4, 20 April 2010, Pages 675-685, available from http://dx.doi.org/10.1016/j.devcel.2010.02.012. The paper pdf is available in the handouts folder for Week 10. \n",
    "\n",
    "Exercise 2: In the Guo et al. paper there are PCA plots in Figure 1B and 1C. Can you reproduce these or equivalent? You will have to modify the dataset, run PCA again and make some new plots. \n",
    "\n",
    "Note: Our data does not have information about which embryos the cells come from, so you won't be able to colour in the cells by embryo of origin as is done in Figure 1B"
   ]
  },
  {
   "cell_type": "code",
   "execution_count": 1,
   "metadata": {
    "scrolled": true
   },
   "outputs": [
    {
     "name": "stderr",
     "output_type": "stream",
     "text": [
      "WARNING: 1 intermediate output message was discarded.\n"
     ]
    }
   ],
   "source": [
    "import matplotlib.pyplot as plt\n",
    "import numpy as np\n",
    "import pandas as pd\n",
    "import visualisation # some functions defined for this lab\n",
    "import plotly\n",
    "import plotly.graph_objs as go\n",
    "from plotly.offline import download_plotlyjs, init_notebook_mode, plot, iplot\n",
    "init_notebook_mode(connected=False)\n",
    "# use seaborn plotting style defaults\n",
    "doInteractive = True\n",
    "def interactivePlots(fig, axes):\n",
    "    # helper function to decide to use plotly interactive plots or not\n",
    "    if(doInteractive):\n",
    "        plotly.offline.iplot_mpl(fig, show_link=False, strip_style=True) # offline ipython notebook "
   ]
  },
  {
   "cell_type": "code",
   "execution_count": 2,
   "metadata": {},
   "outputs": [],
   "source": [
    "GuoDataAll = pd.read_csv('GuoData.csv', index_col=[0])\n",
    "labelsAll = GuoDataAll.index # The labels give the cell-type for each cell "
   ]
  },
  {
   "cell_type": "markdown",
   "metadata": {},
   "source": [
    "## Figure 1B just contains 64 cell stage samples"
   ]
  },
  {
   "cell_type": "code",
   "execution_count": 3,
   "metadata": {},
   "outputs": [
    {
     "name": "stdout",
     "output_type": "stream",
     "text": [
      "data shape\n",
      " (159, 48)\n"
     ]
    },
    {
     "data": {
      "text/plain": [
       "Index(['64 TE', '64 TE', '64 TE', '64 TE', '64 TE', '64 TE', '64 TE', '64 TE',\n",
       "       '64 TE', '64 TE',\n",
       "       ...\n",
       "       '64 PE', '64 PE', '64 PE', '64 PE', '64 PE', '64 PE', '64 PE', '64 PE',\n",
       "       '64 PE', '64 PE'],\n",
       "      dtype='object', length=159)"
      ]
     },
     "execution_count": 3,
     "metadata": {},
     "output_type": "execute_result"
    }
   ],
   "source": [
    "#Take the data subsdet containing only 64 cell stage labels\n",
    "frames = [GuoDataAll.iloc[labelsAll=='64 TE',:],GuoDataAll.iloc[labelsAll=='64 EPI',:],\n",
    "          GuoDataAll.iloc[labelsAll=='64 PE',:]]\n",
    "GuoData = pd.concat(frames)\n",
    "labels = GuoData.index\n",
    "print('data shape\\n', GuoData.shape)\n",
    "labels"
   ]
  },
  {
   "cell_type": "markdown",
   "metadata": {},
   "source": [
    "## Carry out PCA on this new dataset"
   ]
  },
  {
   "cell_type": "code",
   "execution_count": 4,
   "metadata": {},
   "outputs": [],
   "source": [
    "Wt, X_proj, fracs = visualisation.do_pca(GuoData)\n",
    "X_proj = X_proj/abs(X_proj).max().max()"
   ]
  },
  {
   "cell_type": "markdown",
   "metadata": {},
   "source": [
    "## Plot the 2D projection of the data\n",
    "We don't have the embryo of origin in the data so we can't show that the figure looks very similar to the one in the paper, but it looks a reasonable match. By focussing on the later stege we see better separation of the relevant cell-types than in the above plots using all cells. \n",
    "\n",
    "There are some subtle differences between this plot and the paper - perhaps this is due to some differences in processing of the data. That's why it is useful to include all the code for data analysis when publishing papers, so that other scientists can reproduce all the data analysis exactly. It is best practice to publish analysis notebooks like this one along with journal articles. "
   ]
  },
  {
   "cell_type": "code",
   "execution_count": 5,
   "metadata": {},
   "outputs": [
    {
     "data": {
      "text/html": [
       "<div id=\"8d80a637-b25e-447a-b663-d09e5f39cabe\" style=\"height: 525px; width: 100%;\" class=\"plotly-graph-div\"></div><script type=\"text/javascript\">require([\"plotly\"], function(Plotly) { window.PLOTLYENV=window.PLOTLYENV || {};window.PLOTLYENV.BASE_URL=\"https://plot.ly\";Plotly.newPlot(\"8d80a637-b25e-447a-b663-d09e5f39cabe\", [{\"name\": \"64 EPI\", \"text\": \"64 EPI\", \"x\": [0.6943664140816197, 0.6767015080779663, 0.7709134630405793, 0.8413624948344146, 0.7533307580795133, 0.9760344969852472, 0.8675514604268167, 0.741066038331699, 0.9758609610589926, 0.9544089386639132, 0.6948424535078938, 0.8229646272248533, 0.7691946295058475, 0.8881796509084373, 0.9289992068057911, 0.7121497607193104, 0.741919602591461, 0.8437032090968538, 0.9085308383812504], \"y\": [0.8161705670048217, 0.8704478422677842, 0.6203030794648385, 0.7282902467596141, 0.7513212262276947, 0.6675613552901276, 0.6539376892714482, 0.2825187450251897, 0.718406071947856, 0.6858440624276179, 0.7645058647284879, 0.8028273276206459, 0.8667404825124825, 0.8907045452362663, 0.8416854162044914, 0.8978836042015818, 0.6636674253169729, 0.6987981438937971, 0.28806479490714865], \"mode\": \"markers\", \"type\": \"scatter\"}, {\"name\": \"64 PE\", \"text\": \"64 PE\", \"x\": [0.624902525708873, 0.5678799704492455, 0.7216656190909433, 0.7131123643540046, 0.7052634994098306, 0.6459154324371847, 0.7438049639171448, 0.7002370302571904, 0.7309247295362798, 0.6010242477823542, 0.5242001340717637, 0.7253085424792685, 0.6620263204825256, 0.7149332449424851, 0.5910782501458901, 0.5305362973449272, 0.575693235955818, 0.6924322578330994, 0.715254069538897, 0.8123940556315368, 0.7905925324201806, 0.8880481086835871, 0.762525182640348, 0.8543905317791077, 0.7926434055418238, 0.7076420295793615, 0.6158275867626151, 0.8653214689217341, 0.7256214299736822, 0.7694915699573273, 0.7685965674367152, 0.7563238754262942, 0.8094046332619408, 0.6933345540967011, 0.7268907995045722, 0.8760545012652933, 0.8192219724946167, 0.5956684165948698, 0.7612022197489356, 0.872492181311867, 0.7102236481903452, 0.594355659522384, 0.8497395148027914, 0.648029634843443], \"y\": [-0.4569995906357079, -0.540262255374836, -0.45118727603516895, -0.4048167453149494, -0.40289830983064273, -0.38789840642507, -0.16230795633924944, -0.05650394422544013, -0.27880007198102463, -0.32259034059045444, -0.18537079282536115, -0.19053849545814439, -0.37726714890895713, -0.30914971741525454, -0.15577878277223756, -0.2339583204863928, -0.2923787044601149, -0.44975176257008953, -0.431571134151407, -0.07994573043882258, 0.029405410547565493, -0.13694173099921517, -0.2289408199604118, -0.08908545768126547, -0.3596225239229742, -0.2504608430873443, -0.5057944084594593, -0.312799375403947, -0.5955824980294351, -0.5450193146331597, -0.38295252445649275, -0.3782183366828106, -0.5503562784093804, -0.473057051030362, -0.4501699054525593, -0.3767999763183202, -0.35402646628958584, -0.11668468156514807, -0.6004620668739036, -0.4610101024633254, -0.3468157719384286, -0.4240007772601626, -0.37087361803276303, -0.3944299509492118], \"mode\": \"markers\", \"type\": \"scatter\"}, {\"name\": \"64 TE\", \"text\": \"64 TE\", \"x\": [-0.5979222107708653, -0.4453771326329788, -0.45550582157029584, -0.47170996450664254, -0.3899454722631956, -0.3943648437881476, -0.5961133277532177, -0.41691336365699855, -0.45985236304714916, -0.4426698714432594, -0.4235827735582911, -0.46054579998987333, -0.32317824682377566, -0.6234339909351917, -0.6808952148965667, -0.47315383937473393, -0.3852187209362032, -0.6104317160899452, -0.6764759213051676, -0.5485361401704473, -0.47868285494181106, -0.7634708788452363, -0.6732807560722711, -0.5882870531592784, -0.6018195438397959, -0.5312883886532688, -0.2571155742392851, -0.27734347666216336, -0.6762234836979049, -0.6350921080660964, -0.7124874668680492, -0.7426077924415428, -0.6250619871213694, -0.45027547714407534, -0.480350810145611, -0.325204132240286, -0.6320565821919781, -0.6861920182367797, -0.5197749882799567, -0.6053164577827149, -0.4794490223902863, -0.22740985461681776, -0.5234305621256419, -0.8180980757162848, -0.6284258074404083, -0.5526287411354707, -0.5973290589382283, -0.527720432367588, -0.5432038840174569, -0.6436285994017349, -0.2994582820568588, -0.46530136636818953, -0.3684696294031553, -0.43146536332798324, -0.48832739524363183, -0.3779250215484396, -0.4694635980219891, -0.4131565037512389, -0.4659595599222991, -0.379384063655476, -0.44786860076237484, -0.5621912408802547, -0.5546672606971873, -0.3302076872165844, -0.2814665409123832, -0.28045501765529113, -0.45078249521107716, -0.6728160654928939, -0.5455667418869732, -0.4892817905617939, -0.44965209394349076, -0.4065334094662063, -0.298569421604278, -0.36327947370191677, -0.43685979270221625, -0.6630622099812614, -0.5525828978378698, -0.41082473330128333, -0.5846449757367919, -0.6152001319194352, -0.5851841420662272, -0.23590210714807855, -0.4201126437329694, -0.4537306252699422, -0.4476385725968789, -0.4943337955903083, -0.6354175420674409, -0.5146452438764161, -0.5341287003254926, -0.0922447046853744, -0.022563655028531547, -0.4787427781195463, -0.5319974437982883, -0.48962965532784314, -0.5010920686254172, -0.4424396811303339], \"y\": [-0.018166732643359985, 0.1204424578662462, -0.05822507736136166, 0.047599195750814775, -0.027155291297053907, -0.09829839715192132, 0.06773898975354442, -0.05073051570320666, -0.0525276521073397, -0.019283150641403696, 0.09371186402217613, -0.14758713070690413, -0.022653903816589417, -0.02614741160393581, 0.0015728723674898637, 0.009191989762723009, -0.13031100484651162, 0.05449038360696269, 0.10982514292187065, -0.06666264163919328, 0.1682938590709966, -0.059000195532014583, -0.021307859433613647, 0.020449257567287125, -0.09244572301103687, 0.08903349744509452, 0.05461589731413779, 0.015623053025499578, -0.033905252482415126, -0.09851308035042007, -0.047300565316521305, -0.08507892971684618, -0.19955434378868858, -0.10857173461234336, -0.03736268147458674, -0.00898165195731066, -0.047432250515083645, 0.004452770126076508, 0.006402636467830745, -0.047375029735802446, 0.0005340471517531163, 0.057131112043332495, 0.055151673205774625, 0.131763325754886, -0.089039632984752, 0.009057324725547112, 0.029076849820460764, 0.031163122738968544, -0.06261123346379951, 0.027003564161183758, 0.22039717461879532, 0.0681070804589865, -0.03721194786863979, 0.09713243402684378, 0.08264909181393021, 0.04718266477735389, 0.052164876617994675, 0.03690912438561435, -0.010201595236860074, 0.09232269843811956, 0.07332452690871127, 0.06426501717949784, 0.05413480608188317, 0.000634073660173783, -0.09384688850320692, 0.07180727642939122, -0.14703207855308997, 0.0750449368260156, 0.07547604749227042, -0.09559114142316763, -0.05509770885963715, 0.016616384033648963, 0.09486207229409299, 0.04294838036828223, -0.02056401032527978, 0.008818358864709833, 0.08081442766652025, 0.03358996732082974, 0.11231022792573776, 0.0010552019451184958, 0.11000027457423373, 0.3154947716267686, -0.008620093361735697, -0.010564335927438153, -0.022485564395563366, 0.23675242306961053, -0.03417353375435718, 0.00615721923446115, 0.16682467306651075, -0.0318470370015195, 0.2779694905238214, -0.058640558905245374, 0.038080995943102686, 0.03797951744638185, -0.07280906006864413, -0.10624040892911049], \"mode\": \"markers\", \"type\": \"scatter\"}], {}, {\"linkText\": \"Export to plot.ly\", \"showLink\": true})});</script>"
      ]
     },
     "execution_count": 5,
     "metadata": {},
     "output_type": "execute_result"
    }
   ],
   "source": [
    "PC1 = 0\n",
    "PC2 = 1\n",
    "# Create a trace\n",
    "traceCelltype = list()\n",
    "labelList = np.unique(labels)\n",
    "assert set(np.unique(labels)) == set(labelList), 'Missing labels'\n",
    "for lbl in labelList:\n",
    "    traceCelltype.append(go.Scatter(\n",
    "        x = X_proj[labels==lbl].iloc[:,PC1],\n",
    "        y = X_proj[labels==lbl].iloc[:,PC2],\n",
    "        mode='markers',\n",
    "        name = lbl,\n",
    "        text = lbl\n",
    "        ))\n",
    "iplot(traceCelltype, filename='GuoPCAFig1B')"
   ]
  },
  {
   "cell_type": "markdown",
   "metadata": {},
   "source": [
    "## Fig 1C shows the factor loadings which are in Wt\n",
    "Here we need to plot the Wt matrix and we need to label each point with the corresponding gene name (feature).\n",
    "\n",
    "The plot is not identical to the paper due to subtle differences in the data normalisation used."
   ]
  },
  {
   "cell_type": "code",
   "execution_count": 6,
   "metadata": {},
   "outputs": [
    {
     "data": {
      "text/html": [
       "<div id=\"a330db7c-924d-4c71-b522-e04f1e01731e\" style=\"height: 525px; width: 100%;\" class=\"plotly-graph-div\"></div><script type=\"text/javascript\">require([\"plotly\"], function(Plotly) { window.PLOTLYENV=window.PLOTLYENV || {};window.PLOTLYENV.BASE_URL=\"https://plot.ly\";Plotly.newPlot(\"a330db7c-924d-4c71-b522-e04f1e01731e\", [{\"x\": [-0.15228610545514434, 0.18183211107215091, -0.15918758729692425, -0.14870767491509704, 0.14502906246565936, -0.10839569927842171, 0.1689851995942717, -0.12849912079611242, -0.06238007404691337, -0.19298757721138363, -0.13996164266892375, 0.16099613943810281, 0.1312823214753531, -0.06330470702936206, 0.19044101189324092, 0.1522861057739037, -0.15488198571447984, 0.18178102867006882, 0.07041535836195754, -0.13567386004675716, -0.11057622388281604, 0.0656690757001819, 0.1629853222062227, -0.19463884651294738, 0.12285015253547722, 0.1752764300848921, 0.050114162348617215, -0.17727122789430944, -0.18112620614704625, -0.17696126397266632, 0.023012737069472572, 0.018704775297586605, 0.11850269323163558, 0.02234237675130238, 0.17782124055567855, 0.1752341018965195, 0.17658669242332384, 0.07279102113617056, 0.15937568073829417, 0.16132317235477348, 0.14310879890418324, 0.18528571275768946, -0.02314410207207206, -0.14715860165442865, 0.031127656645550707, 0.1844406922471884, 0.18242761556715617, -0.18684209973144808], \"y\": [-0.0356290872577168, 0.032440657234241964, 0.19922038082160798, 0.04160108373830129, 0.21389581624220483, 0.05067115101904861, -0.16731910193510388, 0.04280780264469727, -0.24963299285697818, 0.04806814368984031, -0.04836657043862342, 0.1583280010547596, 0.28442840725543916, -0.30558789180271156, 0.08782780284092429, 0.035629085161068046, 0.014589140071321487, -0.17198881708265962, -0.28351090835280146, 0.09766906863533911, 0.10195778579511895, 0.07714162987578199, -0.06488641274075133, -0.01722595319464545, 0.22826983470304038, 0.05220027774910528, -0.1078776259116169, -0.028629441985589154, 0.10292544532019493, -0.00862625175949737, 0.18845262106738472, -0.166126950274214, 0.23738688163159047, 0.13904406042092063, -0.1851409807754621, 0.15400145646176513, 0.02954361048718637, -0.3016275920766427, 0.18783766137419286, -0.027213299162329473, -0.09610187254077826, -0.12592470783790066, 0.0796147237966612, -0.028540765108639107, 0.07531689877417129, -0.11304300971973746, 0.05520585746545976, 0.07666334637044854], \"type\": \"scatter\", \"mode\": \"markers\", \"text\": [\"Actb\", \"Ahcy\", \"Aqp3\", \"Atp12a\", \"Bmp4\", \"Cdx2\", \"Creb312\", \"Cebpa\", \"Dab2\", \"DppaI\", \"Eomes\", \"Esrrb\", \"Fgf4\", \"Fgfr2\", \"Fn1\", \"Gapdh\", \"Gata3\", \"Gata4\", \"Gata6\", \"Grhl1\", \"Grhl2\", \"Hand1\", \"Hnf4a\", \"Id2\", \"Klf2\", \"Klf4\", \"Klf5\", \"Krt8\", \"Lcp1\", \"Mbnl3\", \"Msc\", \"Msx2\", \"Nanog\", \"Pdgfa\", \"Pdgfra\", \"Pecam1\", \"Pou5f1\", \"Runx1\", \"Sox2\", \"Sall4\", \"Sox17\", \"Snail\", \"Sox13\", \"Tcfap2a\", \"Tcfap2c\", \"Tcf23\", \"Utf1\", \"Tspan8\"]}], {}, {\"linkText\": \"Export to plot.ly\", \"showLink\": true})});</script>"
      ]
     },
     "execution_count": 6,
     "metadata": {},
     "output_type": "execute_result"
    }
   ],
   "source": [
    "GeneNames = GuoData.columns # Collect together the gene names\n",
    "# Create a trace\n",
    "traceGene = go.Scatter(\n",
    "    x = Wt.loc['PC1',:],\n",
    "    y = Wt.loc['PC2',:],\n",
    "    text = GeneNames,\n",
    "    mode = 'markers'\n",
    "        )\n",
    "data = [traceGene]\n",
    "# Plot and embed in ipython notebook!\n",
    "iplot(data, filename='GuoPCAFig1C')"
   ]
  },
  {
   "cell_type": "code",
   "execution_count": 0,
   "metadata": {},
   "outputs": [],
   "source": []
  }
 ],
 "metadata": {
  "anaconda-cloud": {},
  "kernelspec": {
   "display_name": "Python 3",
   "language": "python",
   "name": "python3"
  },
  "language_info": {
   "codemirror_mode": {
    "name": "ipython",
    "version": 3
   },
   "file_extension": ".py",
   "mimetype": "text/x-python",
   "name": "python",
   "nbconvert_exporter": "python",
   "pygments_lexer": "ipython3",
   "version": "3.7.1"
  }
 },
 "nbformat": 4,
 "nbformat_minor": 1
}
