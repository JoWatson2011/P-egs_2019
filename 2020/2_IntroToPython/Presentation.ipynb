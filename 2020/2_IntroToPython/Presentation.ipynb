{
 "cells": [
  {
   "cell_type": "code",
   "execution_count": 4,
   "metadata": {
    "slideshow": {
     "slide_type": "slide"
    }
   },
   "outputs": [
    {
     "data": {
      "text/plain": [
       "10"
      ]
     },
     "execution_count": 4,
     "metadata": {},
     "output_type": "execute_result"
    }
   ],
   "source": [
    "10"
   ]
  },
  {
   "cell_type": "markdown",
   "metadata": {
    "slideshow": {
     "slide_type": "fragment"
    }
   },
   "source": [
    "This is a message to myself :)"
   ]
  },
  {
   "cell_type": "markdown",
   "metadata": {
    "slideshow": {
     "slide_type": "slide"
    }
   },
   "source": [
    "# **Pegs2020**"
   ]
  },
  {
   "cell_type": "markdown",
   "metadata": {
    "slideshow": {
     "slide_type": "slide"
    }
   },
   "source": [
    "# Before we begin!"
   ]
  },
  {
   "cell_type": "markdown",
   "metadata": {
    "slideshow": {
     "slide_type": "fragment"
    }
   },
   "source": [
    "Let's note that Jupyter tells us the last thing we did"
   ]
  },
  {
   "cell_type": "code",
   "execution_count": 97,
   "metadata": {
    "slideshow": {
     "slide_type": "fragment"
    }
   },
   "outputs": [
    {
     "data": {
      "text/plain": [
       "11"
      ]
     },
     "execution_count": 97,
     "metadata": {},
     "output_type": "execute_result"
    }
   ],
   "source": [
    "10\n",
    "\n",
    "11"
   ]
  },
  {
   "cell_type": "markdown",
   "metadata": {
    "slideshow": {
     "slide_type": "fragment"
    }
   },
   "source": [
    "But we can use ``display(`` *x* ``)`` to force it to display something else."
   ]
  },
  {
   "cell_type": "code",
   "execution_count": 98,
   "metadata": {
    "slideshow": {
     "slide_type": "fragment"
    }
   },
   "outputs": [
    {
     "data": {
      "text/plain": [
       "10"
      ]
     },
     "metadata": {},
     "output_type": "display_data"
    },
    {
     "data": {
      "text/plain": [
       "11"
      ]
     },
     "metadata": {},
     "output_type": "display_data"
    }
   ],
   "source": [
    "display( 10 )\n",
    "\n",
    "display( 11 )"
   ]
  },
  {
   "cell_type": "markdown",
   "metadata": {
    "slideshow": {
     "slide_type": "slide"
    }
   },
   "source": [
    "# The basics of Python"
   ]
  },
  {
   "cell_type": "markdown",
   "metadata": {
    "slideshow": {
     "slide_type": "fragment"
    }
   },
   "source": [
    "## Basic maths\n",
    "\n",
    "We can set *variables* and perform basic maths:"
   ]
  },
  {
   "cell_type": "code",
   "execution_count": 92,
   "metadata": {
    "slideshow": {
     "slide_type": "fragment"
    }
   },
   "outputs": [
    {
     "data": {
      "text/plain": [
       "42"
      ]
     },
     "execution_count": 92,
     "metadata": {},
     "output_type": "execute_result"
    }
   ],
   "source": [
    "x = 6\n",
    "y = 7\n",
    "the_answer = x * y\n",
    "the_answer"
   ]
  },
  {
   "cell_type": "markdown",
   "metadata": {
    "slideshow": {
     "slide_type": "subslide"
    }
   },
   "source": [
    "Note that variables stay alive from one block to the next:"
   ]
  },
  {
   "cell_type": "code",
   "execution_count": 91,
   "metadata": {
    "slideshow": {
     "slide_type": "-"
    }
   },
   "outputs": [
    {
     "data": {
      "text/plain": [
       "42"
      ]
     },
     "execution_count": 91,
     "metadata": {},
     "output_type": "execute_result"
    }
   ],
   "source": [
    "the_answer"
   ]
  },
  {
   "cell_type": "markdown",
   "metadata": {
    "slideshow": {
     "slide_type": "fragment"
    }
   },
   "source": [
    "But we can overwrite them:"
   ]
  },
  {
   "cell_type": "code",
   "execution_count": 95,
   "metadata": {
    "slideshow": {
     "slide_type": "-"
    }
   },
   "outputs": [
    {
     "data": {
      "text/plain": [
       "'spam'"
      ]
     },
     "execution_count": 95,
     "metadata": {},
     "output_type": "execute_result"
    }
   ],
   "source": [
    "the_answer = \"spam\"\n",
    "the_answer"
   ]
  },
  {
   "cell_type": "markdown",
   "metadata": {
    "slideshow": {
     "slide_type": "fragment"
    }
   },
   "source": [
    "Assigning itself doesn't return anything (so won't be displayed)!"
   ]
  },
  {
   "cell_type": "code",
   "execution_count": 101,
   "metadata": {
    "slideshow": {
     "slide_type": "fragment"
    }
   },
   "outputs": [],
   "source": [
    "the_answer = \"eggs\""
   ]
  },
  {
   "cell_type": "markdown",
   "metadata": {
    "slideshow": {
     "slide_type": "subslide"
    }
   },
   "source": [
    "## Lists\n",
    "\n",
    "We can create and use vectors (\"``lists``\"):"
   ]
  },
  {
   "cell_type": "code",
   "execution_count": 99,
   "metadata": {
    "slideshow": {
     "slide_type": "fragment"
    }
   },
   "outputs": [
    {
     "data": {
      "text/plain": [
       "[1, 2, 3, 4, 5]"
      ]
     },
     "execution_count": 99,
     "metadata": {},
     "output_type": "execute_result"
    }
   ],
   "source": [
    "x = [1, 2, 3, 4, 5]\n",
    "x"
   ]
  },
  {
   "cell_type": "code",
   "execution_count": 9,
   "metadata": {
    "slideshow": {
     "slide_type": "fragment"
    }
   },
   "outputs": [
    {
     "data": {
      "text/plain": [
       "3"
      ]
     },
     "execution_count": 9,
     "metadata": {},
     "output_type": "execute_result"
    }
   ],
   "source": [
    "x[2]"
   ]
  },
  {
   "cell_type": "code",
   "execution_count": 10,
   "metadata": {
    "slideshow": {
     "slide_type": "fragment"
    }
   },
   "outputs": [
    {
     "data": {
      "text/plain": [
       "[3, 4]"
      ]
     },
     "execution_count": 10,
     "metadata": {},
     "output_type": "execute_result"
    }
   ],
   "source": [
    "x[2:4]"
   ]
  },
  {
   "cell_type": "code",
   "execution_count": 11,
   "metadata": {
    "slideshow": {
     "slide_type": "fragment"
    }
   },
   "outputs": [
    {
     "data": {
      "text/plain": [
       "5"
      ]
     },
     "execution_count": 11,
     "metadata": {},
     "output_type": "execute_result"
    }
   ],
   "source": [
    "x[-1]"
   ]
  },
  {
   "cell_type": "code",
   "execution_count": 100,
   "metadata": {
    "slideshow": {
     "slide_type": "subslide"
    }
   },
   "outputs": [
    {
     "data": {
      "text/plain": [
       "[1, 2, 3, 4, 5, 6, 7, 8]"
      ]
     },
     "execution_count": 100,
     "metadata": {},
     "output_type": "execute_result"
    }
   ],
   "source": [
    "y = x + [6, 7, 8]\n",
    "y"
   ]
  },
  {
   "cell_type": "markdown",
   "metadata": {
    "slideshow": {
     "slide_type": "subslide"
    }
   },
   "source": [
    "## Strings\n",
    "\n",
    "(text)"
   ]
  },
  {
   "cell_type": "code",
   "execution_count": 79,
   "metadata": {
    "slideshow": {
     "slide_type": "fragment"
    }
   },
   "outputs": [
    {
     "data": {
      "text/plain": [
       "'world!'"
      ]
     },
     "execution_count": 79,
     "metadata": {},
     "output_type": "execute_result"
    }
   ],
   "source": [
    "x = \"world!\"\n",
    "x"
   ]
  },
  {
   "cell_type": "code",
   "execution_count": 80,
   "metadata": {
    "slideshow": {
     "slide_type": "fragment"
    }
   },
   "outputs": [
    {
     "data": {
      "text/plain": [
       "'hello, world!'"
      ]
     },
     "execution_count": 80,
     "metadata": {},
     "output_type": "execute_result"
    }
   ],
   "source": [
    "y = \"hello, \" + x\n",
    "y"
   ]
  },
  {
   "cell_type": "code",
   "execution_count": 81,
   "metadata": {
    "slideshow": {
     "slide_type": "fragment"
    }
   },
   "outputs": [
    {
     "data": {
      "text/plain": [
       "'hello, world!'"
      ]
     },
     "execution_count": 81,
     "metadata": {},
     "output_type": "execute_result"
    }
   ],
   "source": [
    "z = f\"hello, {x}\"\n",
    "z"
   ]
  },
  {
   "cell_type": "markdown",
   "metadata": {
    "slideshow": {
     "slide_type": "subslide"
    }
   },
   "source": [
    "## Dictionaries\n",
    "\n",
    "Like ``list``s, but maps one object to another..."
   ]
  },
  {
   "cell_type": "code",
   "execution_count": 105,
   "metadata": {
    "slideshow": {
     "slide_type": "fragment"
    }
   },
   "outputs": [],
   "source": [
    "x = { \"TTC\": \"Phenylalanine\",\n",
    "      \"CTT\": \"Methionine\",\n",
    "      \"CTA\": \"Methionine\" }"
   ]
  },
  {
   "cell_type": "code",
   "execution_count": 106,
   "metadata": {
    "slideshow": {
     "slide_type": "fragment"
    }
   },
   "outputs": [
    {
     "data": {
      "text/plain": [
       "'Methionine'"
      ]
     },
     "execution_count": 106,
     "metadata": {},
     "output_type": "execute_result"
    }
   ],
   "source": [
    "x[\"CTT\"]"
   ]
  },
  {
   "cell_type": "markdown",
   "metadata": {
    "slideshow": {
     "slide_type": "skip"
    }
   },
   "source": [
    "*On two occasions I have been asked, —* \"Pray, Mr. Babbage, if you put into the machine wrong figures, will the right answers come out?\" *In one case a member of the Upper, and in the other a member of the Lower, House put this question. I am not able rightly to apprehend the kind of confusion of ideas that could provoke such a question.*"
   ]
  },
  {
   "cell_type": "markdown",
   "metadata": {
    "slideshow": {
     "slide_type": "subslide"
    }
   },
   "source": [
    "## Conditionals\n",
    "\n",
    "We can conditionally execute statements:"
   ]
  },
  {
   "cell_type": "markdown",
   "metadata": {},
   "source": [
    "*Scores:*"
   ]
  },
  {
   "cell_type": "code",
   "execution_count": 67,
   "metadata": {
    "slideshow": {
     "slide_type": "fragment"
    }
   },
   "outputs": [],
   "source": [
    "p1 = 1\n",
    "p2 = 2"
   ]
  },
  {
   "cell_type": "code",
   "execution_count": 68,
   "metadata": {
    "slideshow": {
     "slide_type": "fragment"
    }
   },
   "outputs": [
    {
     "name": "stdout",
     "output_type": "stream",
     "text": [
      "player 2 wins\n"
     ]
    }
   ],
   "source": [
    "if p1 > p2:\n",
    "    print( \"player 1 wins\" )\n",
    "elif p1 == p2:\n",
    "    print( \"draw\" )\n",
    "else:\n",
    "    print( \"player 2 wins\" )"
   ]
  },
  {
   "cell_type": "markdown",
   "metadata": {},
   "source": [
    "*(Remember to add the spaces!)*"
   ]
  },
  {
   "cell_type": "markdown",
   "metadata": {
    "slideshow": {
     "slide_type": "subslide"
    }
   },
   "source": [
    "## Loops"
   ]
  },
  {
   "cell_type": "code",
   "execution_count": 107,
   "metadata": {},
   "outputs": [],
   "source": [
    "menu = [\"egg + spam\",\n",
    "        \"egg bacon + spam\",\n",
    "        \"egg bacon sausage + spam\",\n",
    "        \"spam bacon sausage + spam\"]"
   ]
  },
  {
   "cell_type": "code",
   "execution_count": 64,
   "metadata": {},
   "outputs": [
    {
     "data": {
      "text/plain": [
       "'We sell egg + spam.'"
      ]
     },
     "metadata": {},
     "output_type": "display_data"
    },
    {
     "data": {
      "text/plain": [
       "'We sell egg bacon + spam.'"
      ]
     },
     "metadata": {},
     "output_type": "display_data"
    },
    {
     "data": {
      "text/plain": [
       "'We sell egg bacon sausage + spam.'"
      ]
     },
     "metadata": {},
     "output_type": "display_data"
    },
    {
     "data": {
      "text/plain": [
       "'We sell spam bacon sausage + spam.'"
      ]
     },
     "metadata": {},
     "output_type": "display_data"
    }
   ],
   "source": [
    "display( f\"We sell {menu[0]}.\" )\n",
    "display( f\"We sell {menu[1]}.\" )\n",
    "display( f\"We sell {menu[2]}.\" )\n",
    "display( f\"We sell {menu[3]}.\" )"
   ]
  },
  {
   "cell_type": "markdown",
   "metadata": {
    "slideshow": {
     "slide_type": "subslide"
    }
   },
   "source": [
    "We can loop over things using `for`."
   ]
  },
  {
   "cell_type": "code",
   "execution_count": 65,
   "metadata": {
    "slideshow": {
     "slide_type": "fragment"
    }
   },
   "outputs": [
    {
     "data": {
      "text/plain": [
       "'We sell egg + spam.'"
      ]
     },
     "metadata": {},
     "output_type": "display_data"
    },
    {
     "data": {
      "text/plain": [
       "'We sell egg bacon + spam.'"
      ]
     },
     "metadata": {},
     "output_type": "display_data"
    },
    {
     "data": {
      "text/plain": [
       "'We sell egg bacon sausage + spam.'"
      ]
     },
     "metadata": {},
     "output_type": "display_data"
    },
    {
     "data": {
      "text/plain": [
       "'We sell spam bacon sausage + spam.'"
      ]
     },
     "metadata": {},
     "output_type": "display_data"
    }
   ],
   "source": [
    "for meal in menu:\n",
    "    display( f\"We sell {meal}.\" )\n",
    "    "
   ]
  },
  {
   "cell_type": "markdown",
   "metadata": {
    "slideshow": {
     "slide_type": "subslide"
    }
   },
   "source": [
    "## Procedural\n",
    "\n",
    "R is **functional**.\n",
    "\n",
    "Python is (primarily) **procedural**.\n",
    "\n",
    "So unlike R, this won't work."
   ]
  },
  {
   "cell_type": "code",
   "execution_count": 19,
   "metadata": {
    "slideshow": {
     "slide_type": "fragment"
    }
   },
   "outputs": [
    {
     "ename": "TypeError",
     "evalue": "can only concatenate list (not \"int\") to list",
     "output_type": "error",
     "traceback": [
      "\u001b[0;31m---------------------------------------------------------------------------\u001b[0m",
      "\u001b[0;31mTypeError\u001b[0m                                 Traceback (most recent call last)",
      "\u001b[0;32m<ipython-input-19-cadfcea933ec>\u001b[0m in \u001b[0;36m<module>\u001b[0;34m\u001b[0m\n\u001b[1;32m      1\u001b[0m \u001b[0mx\u001b[0m \u001b[0;34m=\u001b[0m \u001b[0;34m[\u001b[0m\u001b[0;36m1\u001b[0m\u001b[0;34m,\u001b[0m \u001b[0;36m2\u001b[0m\u001b[0;34m,\u001b[0m \u001b[0;36m3\u001b[0m\u001b[0;34m,\u001b[0m \u001b[0;36m4\u001b[0m\u001b[0;34m]\u001b[0m\u001b[0;34m\u001b[0m\u001b[0;34m\u001b[0m\u001b[0m\n\u001b[0;32m----> 2\u001b[0;31m \u001b[0mx\u001b[0m \u001b[0;34m+\u001b[0m \u001b[0;36m10\u001b[0m\u001b[0;34m\u001b[0m\u001b[0;34m\u001b[0m\u001b[0m\n\u001b[0m",
      "\u001b[0;31mTypeError\u001b[0m: can only concatenate list (not \"int\") to list"
     ]
    }
   ],
   "source": [
    "x = [1, 2, 3, 4]\n",
    "x + 10"
   ]
  },
  {
   "cell_type": "markdown",
   "metadata": {
    "slideshow": {
     "slide_type": "subslide"
    }
   },
   "source": [
    "But you can invoke functional behaviour through *list comprehension*:"
   ]
  },
  {
   "cell_type": "code",
   "execution_count": 77,
   "metadata": {
    "slideshow": {
     "slide_type": "fragment"
    }
   },
   "outputs": [
    {
     "data": {
      "text/plain": [
       "[25, 15, 35]"
      ]
     },
     "execution_count": 77,
     "metadata": {},
     "output_type": "execute_result"
    }
   ],
   "source": [
    "items = [20, 10, 30]\n",
    "delivery = 5\n",
    "totals = [item + delivery for item in items]\n",
    "totals"
   ]
  },
  {
   "cell_type": "markdown",
   "metadata": {
    "slideshow": {
     "slide_type": "subslide"
    }
   },
   "source": [
    "## Objects\n",
    "\n",
    "Python is **object oriented**, and everything is an object."
   ]
  },
  {
   "cell_type": "code",
   "execution_count": 110,
   "metadata": {
    "slideshow": {
     "slide_type": "fragment"
    }
   },
   "outputs": [],
   "source": [
    "x = [1, 2, 3]"
   ]
  },
  {
   "cell_type": "code",
   "execution_count": 111,
   "metadata": {
    "slideshow": {
     "slide_type": "fragment"
    }
   },
   "outputs": [
    {
     "data": {
      "text/plain": [
       "3"
      ]
     },
     "execution_count": 111,
     "metadata": {},
     "output_type": "execute_result"
    }
   ],
   "source": [
    "x.pop()"
   ]
  },
  {
   "cell_type": "code",
   "execution_count": 112,
   "metadata": {
    "slideshow": {
     "slide_type": "fragment"
    }
   },
   "outputs": [],
   "source": [
    "x.append( 4 )"
   ]
  },
  {
   "cell_type": "code",
   "execution_count": 113,
   "metadata": {
    "slideshow": {
     "slide_type": "fragment"
    }
   },
   "outputs": [
    {
     "data": {
      "text/plain": [
       "[1, 2, 4]"
      ]
     },
     "execution_count": 113,
     "metadata": {},
     "output_type": "execute_result"
    }
   ],
   "source": [
    "x"
   ]
  },
  {
   "cell_type": "markdown",
   "metadata": {
    "slideshow": {
     "slide_type": "fragment"
    }
   },
   "source": [
    "Note: You can define your own data types (that is beyond the scope of this tutorial!)."
   ]
  },
  {
   "cell_type": "markdown",
   "metadata": {
    "slideshow": {
     "slide_type": "subslide"
    }
   },
   "source": [
    "## Packages\n",
    "\n",
    "We can import packages to help us with tasks.\n",
    "\n",
    "``numpy`` is a package that gives us ``array`` ***objects*** that behave more like R."
   ]
  },
  {
   "cell_type": "code",
   "execution_count": 21,
   "metadata": {
    "slideshow": {
     "slide_type": "fragment"
    }
   },
   "outputs": [
    {
     "data": {
      "text/plain": [
       "array([1, 2, 3])"
      ]
     },
     "execution_count": 21,
     "metadata": {},
     "output_type": "execute_result"
    }
   ],
   "source": [
    "import numpy\n",
    "\n",
    "x = numpy.array( [1, 2, 3] )\n",
    "x"
   ]
  },
  {
   "cell_type": "code",
   "execution_count": 22,
   "metadata": {
    "slideshow": {
     "slide_type": "fragment"
    }
   },
   "outputs": [
    {
     "data": {
      "text/plain": [
       "array([11, 12, 13])"
      ]
     },
     "execution_count": 22,
     "metadata": {},
     "output_type": "execute_result"
    }
   ],
   "source": [
    "x + 10"
   ]
  },
  {
   "cell_type": "markdown",
   "metadata": {
    "slideshow": {
     "slide_type": "slide"
    }
   },
   "source": [
    "# Case study"
   ]
  },
  {
   "cell_type": "markdown",
   "metadata": {
    "slideshow": {
     "slide_type": "slide"
    }
   },
   "source": [
    "## Installing requisites\n",
    "\n",
    "We'll be using ``sklearn``, ``pandas``, ``matplotlib`` and ``seaborn`` for the plots.\n",
    "\n",
    "Conveniently, once we're using Jupyter we don't need to exit if we want to install anything else, we can do it here.\n",
    "\n",
    "Install the packages we need for the rest of this notebook!"
   ]
  },
  {
   "cell_type": "code",
   "execution_count": 34,
   "metadata": {
    "slideshow": {
     "slide_type": "fragment"
    }
   },
   "outputs": [
    {
     "name": "stdout",
     "output_type": "stream",
     "text": [
      "Requirement already satisfied: sklearn in ./venv/lib/python3.7/site-packages (0.0)\n",
      "Requirement already satisfied: scikit-learn in ./venv/lib/python3.7/site-packages (from sklearn) (0.22.1)\n",
      "Requirement already satisfied: scipy>=0.17.0 in ./venv/lib/python3.7/site-packages (from scikit-learn->sklearn) (1.4.1)\n",
      "Requirement already satisfied: joblib>=0.11 in ./venv/lib/python3.7/site-packages (from scikit-learn->sklearn) (0.14.1)\n",
      "Requirement already satisfied: numpy>=1.11.0 in ./venv/lib/python3.7/site-packages (from scikit-learn->sklearn) (1.18.1)\n",
      "Note: you may need to restart the kernel to use updated packages.\n",
      "Requirement already satisfied: matplotlib in ./venv/lib/python3.7/site-packages (3.1.2)\n",
      "Requirement already satisfied: python-dateutil>=2.1 in ./venv/lib/python3.7/site-packages (from matplotlib) (2.8.1)\n",
      "Requirement already satisfied: pyparsing!=2.0.4,!=2.1.2,!=2.1.6,>=2.0.1 in ./venv/lib/python3.7/site-packages (from matplotlib) (2.4.6)\n",
      "Requirement already satisfied: numpy>=1.11 in ./venv/lib/python3.7/site-packages (from matplotlib) (1.18.1)\n",
      "Requirement already satisfied: cycler>=0.10 in ./venv/lib/python3.7/site-packages (from matplotlib) (0.10.0)\n",
      "Requirement already satisfied: kiwisolver>=1.0.1 in ./venv/lib/python3.7/site-packages (from matplotlib) (1.1.0)\n",
      "Requirement already satisfied: six>=1.5 in ./venv/lib/python3.7/site-packages (from python-dateutil>=2.1->matplotlib) (1.14.0)\n",
      "Requirement already satisfied: setuptools in ./venv/lib/python3.7/site-packages (from kiwisolver>=1.0.1->matplotlib) (45.1.0)\n",
      "Note: you may need to restart the kernel to use updated packages.\n",
      "Requirement already satisfied: seaborn in ./venv/lib/python3.7/site-packages (0.10.0)\n",
      "Requirement already satisfied: numpy>=1.13.3 in ./venv/lib/python3.7/site-packages (from seaborn) (1.18.1)\n",
      "Requirement already satisfied: pandas>=0.22.0 in ./venv/lib/python3.7/site-packages (from seaborn) (0.25.3)\n",
      "Requirement already satisfied: scipy>=1.0.1 in ./venv/lib/python3.7/site-packages (from seaborn) (1.4.1)\n",
      "Requirement already satisfied: matplotlib>=2.1.2 in ./venv/lib/python3.7/site-packages (from seaborn) (3.1.2)\n",
      "Requirement already satisfied: pytz>=2017.2 in ./venv/lib/python3.7/site-packages (from pandas>=0.22.0->seaborn) (2019.3)\n",
      "Requirement already satisfied: python-dateutil>=2.6.1 in ./venv/lib/python3.7/site-packages (from pandas>=0.22.0->seaborn) (2.8.1)\n",
      "Requirement already satisfied: pyparsing!=2.0.4,!=2.1.2,!=2.1.6,>=2.0.1 in ./venv/lib/python3.7/site-packages (from matplotlib>=2.1.2->seaborn) (2.4.6)\n",
      "Requirement already satisfied: cycler>=0.10 in ./venv/lib/python3.7/site-packages (from matplotlib>=2.1.2->seaborn) (0.10.0)\n",
      "Requirement already satisfied: kiwisolver>=1.0.1 in ./venv/lib/python3.7/site-packages (from matplotlib>=2.1.2->seaborn) (1.1.0)\n",
      "Requirement already satisfied: six>=1.5 in ./venv/lib/python3.7/site-packages (from python-dateutil>=2.6.1->pandas>=0.22.0->seaborn) (1.14.0)\n",
      "Requirement already satisfied: setuptools in ./venv/lib/python3.7/site-packages (from kiwisolver>=1.0.1->matplotlib>=2.1.2->seaborn) (45.1.0)\n",
      "Note: you may need to restart the kernel to use updated packages.\n",
      "Requirement already satisfied: pandas in ./venv/lib/python3.7/site-packages (0.25.3)\n",
      "Requirement already satisfied: numpy>=1.13.3 in ./venv/lib/python3.7/site-packages (from pandas) (1.18.1)\n",
      "Requirement already satisfied: pytz>=2017.2 in ./venv/lib/python3.7/site-packages (from pandas) (2019.3)\n",
      "Requirement already satisfied: python-dateutil>=2.6.1 in ./venv/lib/python3.7/site-packages (from pandas) (2.8.1)\n",
      "Requirement already satisfied: six>=1.5 in ./venv/lib/python3.7/site-packages (from python-dateutil>=2.6.1->pandas) (1.14.0)\n",
      "Note: you may need to restart the kernel to use updated packages.\n"
     ]
    }
   ],
   "source": [
    "%pip install sklearn\n",
    "%pip install matplotlib\n",
    "%pip install seaborn\n",
    "%pip install pandas"
   ]
  },
  {
   "cell_type": "code",
   "execution_count": 24,
   "metadata": {
    "slideshow": {
     "slide_type": "skip"
    }
   },
   "outputs": [],
   "source": [
    "#\n",
    "# The following code sets the default figure size to be a bit\n",
    "# larger, so we can see it better on screen.\n",
    "#\n",
    "# This slide is not displayed as part of the presentation.\n",
    "#\n",
    "import matplotlib\n",
    "matplotlib.rcParams['figure.figsize'] = [10, 10]"
   ]
  },
  {
   "cell_type": "markdown",
   "metadata": {
    "slideshow": {
     "slide_type": "slide"
    }
   },
   "source": [
    "## Reading a TSV\n",
    "\n",
    "Remember we had some files *quants.tsv*, *samples.tsv*, *peptides.tsv*.\n",
    "\n",
    "Let's start by reading in a TSV."
   ]
  },
  {
   "cell_type": "code",
   "execution_count": 84,
   "metadata": {
    "slideshow": {
     "slide_type": "fragment"
    }
   },
   "outputs": [
    {
     "data": {
      "text/plain": [
       "[['condition_index', 'condition_name', 'patient_index'],\n",
       " ['S0', '0', 'control', '0'],\n",
       " ['S1', '0', 'control', '1'],\n",
       " ['S2', '0', 'control', '2'],\n",
       " ['S3', '0', 'control', '3'],\n",
       " ['S4', '0', 'control', '4'],\n",
       " ['S5', '0', 'control', '5'],\n",
       " ['S6', '0', 'control', '6'],\n",
       " ['S7', '0', 'control', '7'],\n",
       " ['S8', '0', 'control', '8'],\n",
       " ['S9', '0', 'control', '9'],\n",
       " ['S10', '1', 'treatment', '0'],\n",
       " ['S11', '1', 'treatment', '1'],\n",
       " ['S12', '1', 'treatment', '2'],\n",
       " ['S13', '1', 'treatment', '3'],\n",
       " ['S14', '1', 'treatment', '4'],\n",
       " ['S15', '1', 'treatment', '5'],\n",
       " ['S16', '1', 'treatment', '6'],\n",
       " ['S17', '1', 'treatment', '7'],\n",
       " ['S18', '1', 'treatment', '8'],\n",
       " ['S19', '1', 'treatment', '9']]"
      ]
     },
     "execution_count": 84,
     "metadata": {},
     "output_type": "execute_result"
    }
   ],
   "source": [
    "our_file = open( \"/home/mjr/work/pegs2020/samples.tsv\" )\n",
    "\n",
    "data = []\n",
    "\n",
    "for line in our_file:\n",
    "    line = line.strip()\n",
    "    line = line.split( \"\\t\" )\n",
    "    data.append( line )\n",
    "\n",
    "file_in.close()\n",
    "        \n",
    "data"
   ]
  },
  {
   "cell_type": "markdown",
   "metadata": {
    "slideshow": {
     "slide_type": "slide"
    }
   },
   "source": [
    "## Getting someone else to read a TSV\n",
    "\n",
    "Reading a TSV is a task that has been done a million times before though.\n",
    "\n",
    "The ``pandas`` package can do it for us.\n",
    "\n",
    "Let's use Pandas to read in all three of our files."
   ]
  },
  {
   "cell_type": "code",
   "execution_count": 26,
   "metadata": {
    "slideshow": {
     "slide_type": "fragment"
    }
   },
   "outputs": [],
   "source": [
    "from pandas import read_csv\n",
    "\n",
    "samples  = read_csv( \"/home/mjr/work/pegs2020/samples.tsv\",  sep = \"\\t\", header = 0, index_col = 0 )"
   ]
  },
  {
   "cell_type": "markdown",
   "metadata": {
    "slideshow": {
     "slide_type": "fragment"
    }
   },
   "source": [
    "We can look at our data..."
   ]
  },
  {
   "cell_type": "code",
   "execution_count": 27,
   "metadata": {
    "slideshow": {
     "slide_type": "subslide"
    }
   },
   "outputs": [
    {
     "data": {
      "text/html": [
       "<div>\n",
       "<style scoped>\n",
       "    .dataframe tbody tr th:only-of-type {\n",
       "        vertical-align: middle;\n",
       "    }\n",
       "\n",
       "    .dataframe tbody tr th {\n",
       "        vertical-align: top;\n",
       "    }\n",
       "\n",
       "    .dataframe thead th {\n",
       "        text-align: right;\n",
       "    }\n",
       "</style>\n",
       "<table border=\"1\" class=\"dataframe\">\n",
       "  <thead>\n",
       "    <tr style=\"text-align: right;\">\n",
       "      <th></th>\n",
       "      <th>condition_index</th>\n",
       "      <th>condition_name</th>\n",
       "      <th>patient_index</th>\n",
       "    </tr>\n",
       "  </thead>\n",
       "  <tbody>\n",
       "    <tr>\n",
       "      <th>S0</th>\n",
       "      <td>0</td>\n",
       "      <td>control</td>\n",
       "      <td>0</td>\n",
       "    </tr>\n",
       "    <tr>\n",
       "      <th>S1</th>\n",
       "      <td>0</td>\n",
       "      <td>control</td>\n",
       "      <td>1</td>\n",
       "    </tr>\n",
       "    <tr>\n",
       "      <th>S2</th>\n",
       "      <td>0</td>\n",
       "      <td>control</td>\n",
       "      <td>2</td>\n",
       "    </tr>\n",
       "    <tr>\n",
       "      <th>S3</th>\n",
       "      <td>0</td>\n",
       "      <td>control</td>\n",
       "      <td>3</td>\n",
       "    </tr>\n",
       "    <tr>\n",
       "      <th>S4</th>\n",
       "      <td>0</td>\n",
       "      <td>control</td>\n",
       "      <td>4</td>\n",
       "    </tr>\n",
       "    <tr>\n",
       "      <th>S5</th>\n",
       "      <td>0</td>\n",
       "      <td>control</td>\n",
       "      <td>5</td>\n",
       "    </tr>\n",
       "    <tr>\n",
       "      <th>S6</th>\n",
       "      <td>0</td>\n",
       "      <td>control</td>\n",
       "      <td>6</td>\n",
       "    </tr>\n",
       "    <tr>\n",
       "      <th>S7</th>\n",
       "      <td>0</td>\n",
       "      <td>control</td>\n",
       "      <td>7</td>\n",
       "    </tr>\n",
       "    <tr>\n",
       "      <th>S8</th>\n",
       "      <td>0</td>\n",
       "      <td>control</td>\n",
       "      <td>8</td>\n",
       "    </tr>\n",
       "    <tr>\n",
       "      <th>S9</th>\n",
       "      <td>0</td>\n",
       "      <td>control</td>\n",
       "      <td>9</td>\n",
       "    </tr>\n",
       "    <tr>\n",
       "      <th>S10</th>\n",
       "      <td>1</td>\n",
       "      <td>treatment</td>\n",
       "      <td>0</td>\n",
       "    </tr>\n",
       "    <tr>\n",
       "      <th>S11</th>\n",
       "      <td>1</td>\n",
       "      <td>treatment</td>\n",
       "      <td>1</td>\n",
       "    </tr>\n",
       "    <tr>\n",
       "      <th>S12</th>\n",
       "      <td>1</td>\n",
       "      <td>treatment</td>\n",
       "      <td>2</td>\n",
       "    </tr>\n",
       "    <tr>\n",
       "      <th>S13</th>\n",
       "      <td>1</td>\n",
       "      <td>treatment</td>\n",
       "      <td>3</td>\n",
       "    </tr>\n",
       "    <tr>\n",
       "      <th>S14</th>\n",
       "      <td>1</td>\n",
       "      <td>treatment</td>\n",
       "      <td>4</td>\n",
       "    </tr>\n",
       "    <tr>\n",
       "      <th>S15</th>\n",
       "      <td>1</td>\n",
       "      <td>treatment</td>\n",
       "      <td>5</td>\n",
       "    </tr>\n",
       "    <tr>\n",
       "      <th>S16</th>\n",
       "      <td>1</td>\n",
       "      <td>treatment</td>\n",
       "      <td>6</td>\n",
       "    </tr>\n",
       "    <tr>\n",
       "      <th>S17</th>\n",
       "      <td>1</td>\n",
       "      <td>treatment</td>\n",
       "      <td>7</td>\n",
       "    </tr>\n",
       "    <tr>\n",
       "      <th>S18</th>\n",
       "      <td>1</td>\n",
       "      <td>treatment</td>\n",
       "      <td>8</td>\n",
       "    </tr>\n",
       "    <tr>\n",
       "      <th>S19</th>\n",
       "      <td>1</td>\n",
       "      <td>treatment</td>\n",
       "      <td>9</td>\n",
       "    </tr>\n",
       "  </tbody>\n",
       "</table>\n",
       "</div>"
      ],
      "text/plain": [
       "     condition_index condition_name  patient_index\n",
       "S0                 0        control              0\n",
       "S1                 0        control              1\n",
       "S2                 0        control              2\n",
       "S3                 0        control              3\n",
       "S4                 0        control              4\n",
       "S5                 0        control              5\n",
       "S6                 0        control              6\n",
       "S7                 0        control              7\n",
       "S8                 0        control              8\n",
       "S9                 0        control              9\n",
       "S10                1      treatment              0\n",
       "S11                1      treatment              1\n",
       "S12                1      treatment              2\n",
       "S13                1      treatment              3\n",
       "S14                1      treatment              4\n",
       "S15                1      treatment              5\n",
       "S16                1      treatment              6\n",
       "S17                1      treatment              7\n",
       "S18                1      treatment              8\n",
       "S19                1      treatment              9"
      ]
     },
     "execution_count": 27,
     "metadata": {},
     "output_type": "execute_result"
    }
   ],
   "source": [
    "samples"
   ]
  },
  {
   "cell_type": "markdown",
   "metadata": {
    "slideshow": {
     "slide_type": "subslide"
    }
   },
   "source": [
    "Read in our other two files..."
   ]
  },
  {
   "cell_type": "code",
   "execution_count": 28,
   "metadata": {
    "slideshow": {
     "slide_type": "fragment"
    }
   },
   "outputs": [],
   "source": [
    "quants = read_csv( \"/home/mjr/work/pegs2020/quants.tsv\", sep = \"\\t\", header = 0, index_col = 0 )\n",
    "peptides = read_csv( \"/home/mjr/work/pegs2020/peptides.tsv\", sep = \"\\t\", header = 0, index_col = 0 )"
   ]
  },
  {
   "cell_type": "code",
   "execution_count": 29,
   "metadata": {
    "slideshow": {
     "slide_type": "subslide"
    }
   },
   "outputs": [
    {
     "data": {
      "text/html": [
       "<div>\n",
       "<style scoped>\n",
       "    .dataframe tbody tr th:only-of-type {\n",
       "        vertical-align: middle;\n",
       "    }\n",
       "\n",
       "    .dataframe tbody tr th {\n",
       "        vertical-align: top;\n",
       "    }\n",
       "\n",
       "    .dataframe thead th {\n",
       "        text-align: right;\n",
       "    }\n",
       "</style>\n",
       "<table border=\"1\" class=\"dataframe\">\n",
       "  <thead>\n",
       "    <tr style=\"text-align: right;\">\n",
       "      <th></th>\n",
       "      <th>protein</th>\n",
       "      <th>peptide</th>\n",
       "      <th>peptide_length</th>\n",
       "      <th>origin</th>\n",
       "    </tr>\n",
       "  </thead>\n",
       "  <tbody>\n",
       "    <tr>\n",
       "      <th>A0</th>\n",
       "      <td>Q8TF42</td>\n",
       "      <td>RMERVVNLYMVSN</td>\n",
       "      <td>13</td>\n",
       "      <td>NormalPeptide( Protein( q = [982.9763118828521...</td>\n",
       "    </tr>\n",
       "    <tr>\n",
       "      <th>A1</th>\n",
       "      <td>Q8TF42</td>\n",
       "      <td>VMSYDIRSGAK</td>\n",
       "      <td>11</td>\n",
       "      <td>NormalPeptide( Protein( q = [982.9763118828521...</td>\n",
       "    </tr>\n",
       "    <tr>\n",
       "      <th>A2</th>\n",
       "      <td>Q8TF42</td>\n",
       "      <td>LIVWNGSTIKE</td>\n",
       "      <td>11</td>\n",
       "      <td>NormalPeptide( Protein( q = [982.9763118828521...</td>\n",
       "    </tr>\n",
       "    <tr>\n",
       "      <th>A3</th>\n",
       "      <td>Q8TF42</td>\n",
       "      <td>ETEIAKRSGFGAFTK</td>\n",
       "      <td>15</td>\n",
       "      <td>NormalPeptide( Protein( q = [982.9763118828521...</td>\n",
       "    </tr>\n",
       "    <tr>\n",
       "      <th>A4</th>\n",
       "      <td>Q8TF42</td>\n",
       "      <td>YAFKTSSQHKR</td>\n",
       "      <td>11</td>\n",
       "      <td>NormalPeptide( Protein( q = [982.9763118828521...</td>\n",
       "    </tr>\n",
       "    <tr>\n",
       "      <th>...</th>\n",
       "      <td>...</td>\n",
       "      <td>...</td>\n",
       "      <td>...</td>\n",
       "      <td>...</td>\n",
       "    </tr>\n",
       "    <tr>\n",
       "      <th>A844</th>\n",
       "      <td>Q8N4C7</td>\n",
       "      <td>GWNFDCEFRY</td>\n",
       "      <td>10</td>\n",
       "      <td>NormalPeptide( Protein( q = [1018.538363492064...</td>\n",
       "    </tr>\n",
       "    <tr>\n",
       "      <th>A845</th>\n",
       "      <td>Q8N4C7</td>\n",
       "      <td>CAYNWWVRIPQT</td>\n",
       "      <td>12</td>\n",
       "      <td>NormalPeptide( Protein( q = [1018.538363492064...</td>\n",
       "    </tr>\n",
       "    <tr>\n",
       "      <th>A846</th>\n",
       "      <td>Q8N4C7</td>\n",
       "      <td>WFVTSMVIS</td>\n",
       "      <td>9</td>\n",
       "      <td>NormalPeptide( Protein( q = [1018.538363492064...</td>\n",
       "    </tr>\n",
       "    <tr>\n",
       "      <th>A847</th>\n",
       "      <td>Q8N4C7</td>\n",
       "      <td>LKTQDLFCQ</td>\n",
       "      <td>9</td>\n",
       "      <td>NormalPeptide( Protein( q = [1018.538363492064...</td>\n",
       "    </tr>\n",
       "    <tr>\n",
       "      <th>A848</th>\n",
       "      <td>Q8N4C7</td>\n",
       "      <td>DSQWFRY</td>\n",
       "      <td>7</td>\n",
       "      <td>NormalPeptide( Protein( q = [1018.538363492064...</td>\n",
       "    </tr>\n",
       "  </tbody>\n",
       "</table>\n",
       "<p>849 rows × 4 columns</p>\n",
       "</div>"
      ],
      "text/plain": [
       "     protein          peptide  peptide_length  \\\n",
       "A0    Q8TF42    RMERVVNLYMVSN              13   \n",
       "A1    Q8TF42      VMSYDIRSGAK              11   \n",
       "A2    Q8TF42      LIVWNGSTIKE              11   \n",
       "A3    Q8TF42  ETEIAKRSGFGAFTK              15   \n",
       "A4    Q8TF42      YAFKTSSQHKR              11   \n",
       "...      ...              ...             ...   \n",
       "A844  Q8N4C7       GWNFDCEFRY              10   \n",
       "A845  Q8N4C7     CAYNWWVRIPQT              12   \n",
       "A846  Q8N4C7        WFVTSMVIS               9   \n",
       "A847  Q8N4C7        LKTQDLFCQ               9   \n",
       "A848  Q8N4C7          DSQWFRY               7   \n",
       "\n",
       "                                                 origin  \n",
       "A0    NormalPeptide( Protein( q = [982.9763118828521...  \n",
       "A1    NormalPeptide( Protein( q = [982.9763118828521...  \n",
       "A2    NormalPeptide( Protein( q = [982.9763118828521...  \n",
       "A3    NormalPeptide( Protein( q = [982.9763118828521...  \n",
       "A4    NormalPeptide( Protein( q = [982.9763118828521...  \n",
       "...                                                 ...  \n",
       "A844  NormalPeptide( Protein( q = [1018.538363492064...  \n",
       "A845  NormalPeptide( Protein( q = [1018.538363492064...  \n",
       "A846  NormalPeptide( Protein( q = [1018.538363492064...  \n",
       "A847  NormalPeptide( Protein( q = [1018.538363492064...  \n",
       "A848  NormalPeptide( Protein( q = [1018.538363492064...  \n",
       "\n",
       "[849 rows x 4 columns]"
      ]
     },
     "execution_count": 29,
     "metadata": {},
     "output_type": "execute_result"
    }
   ],
   "source": [
    "peptides"
   ]
  },
  {
   "cell_type": "code",
   "execution_count": 30,
   "metadata": {
    "slideshow": {
     "slide_type": "subslide"
    }
   },
   "outputs": [
    {
     "data": {
      "text/html": [
       "<div>\n",
       "<style scoped>\n",
       "    .dataframe tbody tr th:only-of-type {\n",
       "        vertical-align: middle;\n",
       "    }\n",
       "\n",
       "    .dataframe tbody tr th {\n",
       "        vertical-align: top;\n",
       "    }\n",
       "\n",
       "    .dataframe thead th {\n",
       "        text-align: right;\n",
       "    }\n",
       "</style>\n",
       "<table border=\"1\" class=\"dataframe\">\n",
       "  <thead>\n",
       "    <tr style=\"text-align: right;\">\n",
       "      <th></th>\n",
       "      <th>S0</th>\n",
       "      <th>S1</th>\n",
       "      <th>S2</th>\n",
       "      <th>S3</th>\n",
       "      <th>S4</th>\n",
       "      <th>S5</th>\n",
       "      <th>S6</th>\n",
       "      <th>S7</th>\n",
       "      <th>S8</th>\n",
       "      <th>S9</th>\n",
       "      <th>S10</th>\n",
       "      <th>S11</th>\n",
       "      <th>S12</th>\n",
       "      <th>S13</th>\n",
       "      <th>S14</th>\n",
       "      <th>S15</th>\n",
       "      <th>S16</th>\n",
       "      <th>S17</th>\n",
       "      <th>S18</th>\n",
       "      <th>S19</th>\n",
       "    </tr>\n",
       "  </thead>\n",
       "  <tbody>\n",
       "    <tr>\n",
       "      <th>A0</th>\n",
       "      <td>977.593702</td>\n",
       "      <td>985.306708</td>\n",
       "      <td>987.399509</td>\n",
       "      <td>984.254492</td>\n",
       "      <td>986.161852</td>\n",
       "      <td>985.154593</td>\n",
       "      <td>985.235472</td>\n",
       "      <td>986.968797</td>\n",
       "      <td>989.328374</td>\n",
       "      <td>982.103073</td>\n",
       "      <td>990.058502</td>\n",
       "      <td>983.258476</td>\n",
       "      <td>986.801601</td>\n",
       "      <td>984.034683</td>\n",
       "      <td>983.672181</td>\n",
       "      <td>984.005480</td>\n",
       "      <td>987.252111</td>\n",
       "      <td>978.141817</td>\n",
       "      <td>979.598859</td>\n",
       "      <td>986.116067</td>\n",
       "    </tr>\n",
       "    <tr>\n",
       "      <th>A1</th>\n",
       "      <td>988.818948</td>\n",
       "      <td>989.075220</td>\n",
       "      <td>989.493146</td>\n",
       "      <td>989.071078</td>\n",
       "      <td>988.981814</td>\n",
       "      <td>988.941592</td>\n",
       "      <td>989.352976</td>\n",
       "      <td>989.560078</td>\n",
       "      <td>987.871723</td>\n",
       "      <td>989.174907</td>\n",
       "      <td>989.303935</td>\n",
       "      <td>989.076052</td>\n",
       "      <td>988.655431</td>\n",
       "      <td>988.581178</td>\n",
       "      <td>989.154189</td>\n",
       "      <td>988.027952</td>\n",
       "      <td>988.387219</td>\n",
       "      <td>989.848597</td>\n",
       "      <td>991.024466</td>\n",
       "      <td>989.289152</td>\n",
       "    </tr>\n",
       "    <tr>\n",
       "      <th>A2</th>\n",
       "      <td>981.115360</td>\n",
       "      <td>984.758049</td>\n",
       "      <td>968.169698</td>\n",
       "      <td>975.111260</td>\n",
       "      <td>968.456496</td>\n",
       "      <td>982.912322</td>\n",
       "      <td>971.443995</td>\n",
       "      <td>975.772178</td>\n",
       "      <td>979.167888</td>\n",
       "      <td>970.629366</td>\n",
       "      <td>973.797446</td>\n",
       "      <td>990.236816</td>\n",
       "      <td>968.098540</td>\n",
       "      <td>997.160089</td>\n",
       "      <td>993.205379</td>\n",
       "      <td>1001.695524</td>\n",
       "      <td>983.001148</td>\n",
       "      <td>984.368655</td>\n",
       "      <td>982.361368</td>\n",
       "      <td>963.237946</td>\n",
       "    </tr>\n",
       "    <tr>\n",
       "      <th>A3</th>\n",
       "      <td>987.508346</td>\n",
       "      <td>973.384512</td>\n",
       "      <td>976.221921</td>\n",
       "      <td>991.723504</td>\n",
       "      <td>969.248486</td>\n",
       "      <td>971.372614</td>\n",
       "      <td>976.677378</td>\n",
       "      <td>977.713056</td>\n",
       "      <td>986.077276</td>\n",
       "      <td>981.634835</td>\n",
       "      <td>983.336795</td>\n",
       "      <td>986.265030</td>\n",
       "      <td>976.272207</td>\n",
       "      <td>985.248450</td>\n",
       "      <td>987.737445</td>\n",
       "      <td>976.851962</td>\n",
       "      <td>991.776915</td>\n",
       "      <td>968.720234</td>\n",
       "      <td>978.578477</td>\n",
       "      <td>978.295831</td>\n",
       "    </tr>\n",
       "    <tr>\n",
       "      <th>A4</th>\n",
       "      <td>1021.753044</td>\n",
       "      <td>1024.928823</td>\n",
       "      <td>953.734257</td>\n",
       "      <td>994.556946</td>\n",
       "      <td>1026.879202</td>\n",
       "      <td>1011.730439</td>\n",
       "      <td>982.008059</td>\n",
       "      <td>997.044642</td>\n",
       "      <td>990.210949</td>\n",
       "      <td>989.188349</td>\n",
       "      <td>967.010943</td>\n",
       "      <td>1009.215528</td>\n",
       "      <td>1008.815510</td>\n",
       "      <td>985.551465</td>\n",
       "      <td>992.008569</td>\n",
       "      <td>993.661556</td>\n",
       "      <td>1013.050545</td>\n",
       "      <td>993.078746</td>\n",
       "      <td>1007.201639</td>\n",
       "      <td>993.140245</td>\n",
       "    </tr>\n",
       "    <tr>\n",
       "      <th>...</th>\n",
       "      <td>...</td>\n",
       "      <td>...</td>\n",
       "      <td>...</td>\n",
       "      <td>...</td>\n",
       "      <td>...</td>\n",
       "      <td>...</td>\n",
       "      <td>...</td>\n",
       "      <td>...</td>\n",
       "      <td>...</td>\n",
       "      <td>...</td>\n",
       "      <td>...</td>\n",
       "      <td>...</td>\n",
       "      <td>...</td>\n",
       "      <td>...</td>\n",
       "      <td>...</td>\n",
       "      <td>...</td>\n",
       "      <td>...</td>\n",
       "      <td>...</td>\n",
       "      <td>...</td>\n",
       "      <td>...</td>\n",
       "    </tr>\n",
       "    <tr>\n",
       "      <th>A844</th>\n",
       "      <td>1031.893630</td>\n",
       "      <td>1018.369119</td>\n",
       "      <td>1025.604021</td>\n",
       "      <td>1043.480002</td>\n",
       "      <td>1047.050877</td>\n",
       "      <td>1027.157005</td>\n",
       "      <td>1024.450102</td>\n",
       "      <td>1030.374356</td>\n",
       "      <td>1018.573960</td>\n",
       "      <td>1021.989105</td>\n",
       "      <td>1035.002486</td>\n",
       "      <td>1019.599342</td>\n",
       "      <td>1016.518420</td>\n",
       "      <td>1037.477930</td>\n",
       "      <td>1030.549862</td>\n",
       "      <td>1023.944328</td>\n",
       "      <td>1026.566931</td>\n",
       "      <td>1030.917203</td>\n",
       "      <td>1016.003416</td>\n",
       "      <td>1037.804126</td>\n",
       "    </tr>\n",
       "    <tr>\n",
       "      <th>A845</th>\n",
       "      <td>1012.225181</td>\n",
       "      <td>1029.756703</td>\n",
       "      <td>1029.437918</td>\n",
       "      <td>999.875924</td>\n",
       "      <td>1024.424671</td>\n",
       "      <td>1034.863876</td>\n",
       "      <td>1035.760556</td>\n",
       "      <td>1043.130552</td>\n",
       "      <td>1013.746581</td>\n",
       "      <td>1039.101316</td>\n",
       "      <td>1017.162205</td>\n",
       "      <td>1023.260064</td>\n",
       "      <td>1025.446761</td>\n",
       "      <td>1029.728923</td>\n",
       "      <td>1060.123560</td>\n",
       "      <td>1037.613441</td>\n",
       "      <td>1050.556946</td>\n",
       "      <td>1030.215677</td>\n",
       "      <td>1023.938079</td>\n",
       "      <td>1034.037506</td>\n",
       "    </tr>\n",
       "    <tr>\n",
       "      <th>A846</th>\n",
       "      <td>1034.633651</td>\n",
       "      <td>1034.875826</td>\n",
       "      <td>1033.682692</td>\n",
       "      <td>1034.399345</td>\n",
       "      <td>1036.286230</td>\n",
       "      <td>1032.891619</td>\n",
       "      <td>1033.953794</td>\n",
       "      <td>1032.312728</td>\n",
       "      <td>1033.126673</td>\n",
       "      <td>1035.247252</td>\n",
       "      <td>1033.296388</td>\n",
       "      <td>1034.341587</td>\n",
       "      <td>1032.915367</td>\n",
       "      <td>1034.612443</td>\n",
       "      <td>1032.769409</td>\n",
       "      <td>1034.554492</td>\n",
       "      <td>1034.234314</td>\n",
       "      <td>1034.275688</td>\n",
       "      <td>1034.466419</td>\n",
       "      <td>1033.873581</td>\n",
       "    </tr>\n",
       "    <tr>\n",
       "      <th>A847</th>\n",
       "      <td>1039.120098</td>\n",
       "      <td>1025.641431</td>\n",
       "      <td>1010.064163</td>\n",
       "      <td>1037.046131</td>\n",
       "      <td>1027.877599</td>\n",
       "      <td>1023.617162</td>\n",
       "      <td>1025.392629</td>\n",
       "      <td>1030.027800</td>\n",
       "      <td>1028.537959</td>\n",
       "      <td>1023.048614</td>\n",
       "      <td>1037.388742</td>\n",
       "      <td>1031.793436</td>\n",
       "      <td>1021.712082</td>\n",
       "      <td>1034.739966</td>\n",
       "      <td>1030.427495</td>\n",
       "      <td>1040.323269</td>\n",
       "      <td>1032.799625</td>\n",
       "      <td>1028.495620</td>\n",
       "      <td>1041.885022</td>\n",
       "      <td>1015.845218</td>\n",
       "    </tr>\n",
       "    <tr>\n",
       "      <th>A848</th>\n",
       "      <td>1046.223158</td>\n",
       "      <td>1030.644044</td>\n",
       "      <td>989.602051</td>\n",
       "      <td>1042.045537</td>\n",
       "      <td>1021.088149</td>\n",
       "      <td>1032.953951</td>\n",
       "      <td>1011.559979</td>\n",
       "      <td>1003.493013</td>\n",
       "      <td>1036.743506</td>\n",
       "      <td>1036.277520</td>\n",
       "      <td>1053.072482</td>\n",
       "      <td>974.459802</td>\n",
       "      <td>1038.229592</td>\n",
       "      <td>1022.592683</td>\n",
       "      <td>1017.490043</td>\n",
       "      <td>1052.794569</td>\n",
       "      <td>1008.951878</td>\n",
       "      <td>1051.023465</td>\n",
       "      <td>1053.214703</td>\n",
       "      <td>1037.679778</td>\n",
       "    </tr>\n",
       "  </tbody>\n",
       "</table>\n",
       "<p>849 rows × 20 columns</p>\n",
       "</div>"
      ],
      "text/plain": [
       "               S0           S1           S2           S3           S4  \\\n",
       "A0     977.593702   985.306708   987.399509   984.254492   986.161852   \n",
       "A1     988.818948   989.075220   989.493146   989.071078   988.981814   \n",
       "A2     981.115360   984.758049   968.169698   975.111260   968.456496   \n",
       "A3     987.508346   973.384512   976.221921   991.723504   969.248486   \n",
       "A4    1021.753044  1024.928823   953.734257   994.556946  1026.879202   \n",
       "...           ...          ...          ...          ...          ...   \n",
       "A844  1031.893630  1018.369119  1025.604021  1043.480002  1047.050877   \n",
       "A845  1012.225181  1029.756703  1029.437918   999.875924  1024.424671   \n",
       "A846  1034.633651  1034.875826  1033.682692  1034.399345  1036.286230   \n",
       "A847  1039.120098  1025.641431  1010.064163  1037.046131  1027.877599   \n",
       "A848  1046.223158  1030.644044   989.602051  1042.045537  1021.088149   \n",
       "\n",
       "               S5           S6           S7           S8           S9  \\\n",
       "A0     985.154593   985.235472   986.968797   989.328374   982.103073   \n",
       "A1     988.941592   989.352976   989.560078   987.871723   989.174907   \n",
       "A2     982.912322   971.443995   975.772178   979.167888   970.629366   \n",
       "A3     971.372614   976.677378   977.713056   986.077276   981.634835   \n",
       "A4    1011.730439   982.008059   997.044642   990.210949   989.188349   \n",
       "...           ...          ...          ...          ...          ...   \n",
       "A844  1027.157005  1024.450102  1030.374356  1018.573960  1021.989105   \n",
       "A845  1034.863876  1035.760556  1043.130552  1013.746581  1039.101316   \n",
       "A846  1032.891619  1033.953794  1032.312728  1033.126673  1035.247252   \n",
       "A847  1023.617162  1025.392629  1030.027800  1028.537959  1023.048614   \n",
       "A848  1032.953951  1011.559979  1003.493013  1036.743506  1036.277520   \n",
       "\n",
       "              S10          S11          S12          S13          S14  \\\n",
       "A0     990.058502   983.258476   986.801601   984.034683   983.672181   \n",
       "A1     989.303935   989.076052   988.655431   988.581178   989.154189   \n",
       "A2     973.797446   990.236816   968.098540   997.160089   993.205379   \n",
       "A3     983.336795   986.265030   976.272207   985.248450   987.737445   \n",
       "A4     967.010943  1009.215528  1008.815510   985.551465   992.008569   \n",
       "...           ...          ...          ...          ...          ...   \n",
       "A844  1035.002486  1019.599342  1016.518420  1037.477930  1030.549862   \n",
       "A845  1017.162205  1023.260064  1025.446761  1029.728923  1060.123560   \n",
       "A846  1033.296388  1034.341587  1032.915367  1034.612443  1032.769409   \n",
       "A847  1037.388742  1031.793436  1021.712082  1034.739966  1030.427495   \n",
       "A848  1053.072482   974.459802  1038.229592  1022.592683  1017.490043   \n",
       "\n",
       "              S15          S16          S17          S18          S19  \n",
       "A0     984.005480   987.252111   978.141817   979.598859   986.116067  \n",
       "A1     988.027952   988.387219   989.848597   991.024466   989.289152  \n",
       "A2    1001.695524   983.001148   984.368655   982.361368   963.237946  \n",
       "A3     976.851962   991.776915   968.720234   978.578477   978.295831  \n",
       "A4     993.661556  1013.050545   993.078746  1007.201639   993.140245  \n",
       "...           ...          ...          ...          ...          ...  \n",
       "A844  1023.944328  1026.566931  1030.917203  1016.003416  1037.804126  \n",
       "A845  1037.613441  1050.556946  1030.215677  1023.938079  1034.037506  \n",
       "A846  1034.554492  1034.234314  1034.275688  1034.466419  1033.873581  \n",
       "A847  1040.323269  1032.799625  1028.495620  1041.885022  1015.845218  \n",
       "A848  1052.794569  1008.951878  1051.023465  1053.214703  1037.679778  \n",
       "\n",
       "[849 rows x 20 columns]"
      ]
     },
     "execution_count": 30,
     "metadata": {},
     "output_type": "execute_result"
    }
   ],
   "source": [
    "quants"
   ]
  },
  {
   "cell_type": "markdown",
   "metadata": {
    "slideshow": {
     "slide_type": "slide"
    }
   },
   "source": [
    "## First look - PCA (and a plot)"
   ]
  },
  {
   "cell_type": "markdown",
   "metadata": {
    "slideshow": {
     "slide_type": "fragment"
    }
   },
   "source": [
    "Let's perform a PCA of our dataset.\n",
    "\n",
    "The ``sklearn`` package can do this sort of thing...\n",
    "\n",
    "Note that we ``transpose`` our dataset before we continue."
   ]
  },
  {
   "cell_type": "code",
   "execution_count": 32,
   "metadata": {
    "slideshow": {
     "slide_type": "fragment"
    },
    "tutorial": {
     "output": "subslide"
    }
   },
   "outputs": [
    {
     "data": {
      "text/html": [
       "<div>\n",
       "<style scoped>\n",
       "    .dataframe tbody tr th:only-of-type {\n",
       "        vertical-align: middle;\n",
       "    }\n",
       "\n",
       "    .dataframe tbody tr th {\n",
       "        vertical-align: top;\n",
       "    }\n",
       "\n",
       "    .dataframe thead th {\n",
       "        text-align: right;\n",
       "    }\n",
       "</style>\n",
       "<table border=\"1\" class=\"dataframe\">\n",
       "  <thead>\n",
       "    <tr style=\"text-align: right;\">\n",
       "      <th></th>\n",
       "      <th>A0</th>\n",
       "      <th>A1</th>\n",
       "      <th>A2</th>\n",
       "      <th>A3</th>\n",
       "      <th>A4</th>\n",
       "      <th>A5</th>\n",
       "      <th>A6</th>\n",
       "      <th>A7</th>\n",
       "      <th>A8</th>\n",
       "      <th>A9</th>\n",
       "      <th>...</th>\n",
       "      <th>A839</th>\n",
       "      <th>A840</th>\n",
       "      <th>A841</th>\n",
       "      <th>A842</th>\n",
       "      <th>A843</th>\n",
       "      <th>A844</th>\n",
       "      <th>A845</th>\n",
       "      <th>A846</th>\n",
       "      <th>A847</th>\n",
       "      <th>A848</th>\n",
       "    </tr>\n",
       "  </thead>\n",
       "  <tbody>\n",
       "    <tr>\n",
       "      <th>S0</th>\n",
       "      <td>977.593702</td>\n",
       "      <td>988.818948</td>\n",
       "      <td>981.115360</td>\n",
       "      <td>987.508346</td>\n",
       "      <td>1021.753044</td>\n",
       "      <td>987.901808</td>\n",
       "      <td>987.051420</td>\n",
       "      <td>983.915296</td>\n",
       "      <td>972.328784</td>\n",
       "      <td>917.773255</td>\n",
       "      <td>...</td>\n",
       "      <td>1012.925078</td>\n",
       "      <td>1005.671947</td>\n",
       "      <td>1039.463156</td>\n",
       "      <td>1003.186899</td>\n",
       "      <td>1003.107432</td>\n",
       "      <td>1031.893630</td>\n",
       "      <td>1012.225181</td>\n",
       "      <td>1034.633651</td>\n",
       "      <td>1039.120098</td>\n",
       "      <td>1046.223158</td>\n",
       "    </tr>\n",
       "    <tr>\n",
       "      <th>S1</th>\n",
       "      <td>985.306708</td>\n",
       "      <td>989.075220</td>\n",
       "      <td>984.758049</td>\n",
       "      <td>973.384512</td>\n",
       "      <td>1024.928823</td>\n",
       "      <td>984.953259</td>\n",
       "      <td>973.020353</td>\n",
       "      <td>970.603285</td>\n",
       "      <td>967.350473</td>\n",
       "      <td>920.339440</td>\n",
       "      <td>...</td>\n",
       "      <td>1010.028394</td>\n",
       "      <td>1004.525579</td>\n",
       "      <td>1048.258273</td>\n",
       "      <td>1001.454633</td>\n",
       "      <td>1009.861569</td>\n",
       "      <td>1018.369119</td>\n",
       "      <td>1029.756703</td>\n",
       "      <td>1034.875826</td>\n",
       "      <td>1025.641431</td>\n",
       "      <td>1030.644044</td>\n",
       "    </tr>\n",
       "    <tr>\n",
       "      <th>S2</th>\n",
       "      <td>987.399509</td>\n",
       "      <td>989.493146</td>\n",
       "      <td>968.169698</td>\n",
       "      <td>976.221921</td>\n",
       "      <td>953.734257</td>\n",
       "      <td>991.391166</td>\n",
       "      <td>976.519767</td>\n",
       "      <td>1000.178951</td>\n",
       "      <td>990.997734</td>\n",
       "      <td>930.279083</td>\n",
       "      <td>...</td>\n",
       "      <td>1008.907605</td>\n",
       "      <td>980.639444</td>\n",
       "      <td>1025.420459</td>\n",
       "      <td>1002.016718</td>\n",
       "      <td>1011.732242</td>\n",
       "      <td>1025.604021</td>\n",
       "      <td>1029.437918</td>\n",
       "      <td>1033.682692</td>\n",
       "      <td>1010.064163</td>\n",
       "      <td>989.602051</td>\n",
       "    </tr>\n",
       "    <tr>\n",
       "      <th>S3</th>\n",
       "      <td>984.254492</td>\n",
       "      <td>989.071078</td>\n",
       "      <td>975.111260</td>\n",
       "      <td>991.723504</td>\n",
       "      <td>994.556946</td>\n",
       "      <td>1000.109390</td>\n",
       "      <td>985.565879</td>\n",
       "      <td>985.040627</td>\n",
       "      <td>993.701100</td>\n",
       "      <td>930.041072</td>\n",
       "      <td>...</td>\n",
       "      <td>1011.811244</td>\n",
       "      <td>1006.032492</td>\n",
       "      <td>1041.399186</td>\n",
       "      <td>1002.174394</td>\n",
       "      <td>1007.031590</td>\n",
       "      <td>1043.480002</td>\n",
       "      <td>999.875924</td>\n",
       "      <td>1034.399345</td>\n",
       "      <td>1037.046131</td>\n",
       "      <td>1042.045537</td>\n",
       "    </tr>\n",
       "    <tr>\n",
       "      <th>S4</th>\n",
       "      <td>986.161852</td>\n",
       "      <td>988.981814</td>\n",
       "      <td>968.456496</td>\n",
       "      <td>969.248486</td>\n",
       "      <td>1026.879202</td>\n",
       "      <td>987.003438</td>\n",
       "      <td>1012.454035</td>\n",
       "      <td>977.662627</td>\n",
       "      <td>982.983799</td>\n",
       "      <td>938.828405</td>\n",
       "      <td>...</td>\n",
       "      <td>1009.697194</td>\n",
       "      <td>999.070227</td>\n",
       "      <td>1042.210841</td>\n",
       "      <td>1002.434711</td>\n",
       "      <td>1004.535058</td>\n",
       "      <td>1047.050877</td>\n",
       "      <td>1024.424671</td>\n",
       "      <td>1036.286230</td>\n",
       "      <td>1027.877599</td>\n",
       "      <td>1021.088149</td>\n",
       "    </tr>\n",
       "    <tr>\n",
       "      <th>S5</th>\n",
       "      <td>985.154593</td>\n",
       "      <td>988.941592</td>\n",
       "      <td>982.912322</td>\n",
       "      <td>971.372614</td>\n",
       "      <td>1011.730439</td>\n",
       "      <td>994.676518</td>\n",
       "      <td>1015.012780</td>\n",
       "      <td>1002.322390</td>\n",
       "      <td>973.857794</td>\n",
       "      <td>931.970298</td>\n",
       "      <td>...</td>\n",
       "      <td>1010.282304</td>\n",
       "      <td>992.475508</td>\n",
       "      <td>1023.040828</td>\n",
       "      <td>1002.434484</td>\n",
       "      <td>1012.868298</td>\n",
       "      <td>1027.157005</td>\n",
       "      <td>1034.863876</td>\n",
       "      <td>1032.891619</td>\n",
       "      <td>1023.617162</td>\n",
       "      <td>1032.953951</td>\n",
       "    </tr>\n",
       "    <tr>\n",
       "      <th>S6</th>\n",
       "      <td>985.235472</td>\n",
       "      <td>989.352976</td>\n",
       "      <td>971.443995</td>\n",
       "      <td>976.677378</td>\n",
       "      <td>982.008059</td>\n",
       "      <td>997.493578</td>\n",
       "      <td>966.169344</td>\n",
       "      <td>971.620744</td>\n",
       "      <td>993.890155</td>\n",
       "      <td>916.108159</td>\n",
       "      <td>...</td>\n",
       "      <td>1013.060241</td>\n",
       "      <td>1011.218694</td>\n",
       "      <td>1037.007788</td>\n",
       "      <td>1002.615129</td>\n",
       "      <td>1008.520508</td>\n",
       "      <td>1024.450102</td>\n",
       "      <td>1035.760556</td>\n",
       "      <td>1033.953794</td>\n",
       "      <td>1025.392629</td>\n",
       "      <td>1011.559979</td>\n",
       "    </tr>\n",
       "    <tr>\n",
       "      <th>S7</th>\n",
       "      <td>986.968797</td>\n",
       "      <td>989.560078</td>\n",
       "      <td>975.772178</td>\n",
       "      <td>977.713056</td>\n",
       "      <td>997.044642</td>\n",
       "      <td>998.568272</td>\n",
       "      <td>956.976537</td>\n",
       "      <td>984.223383</td>\n",
       "      <td>997.640738</td>\n",
       "      <td>927.367891</td>\n",
       "      <td>...</td>\n",
       "      <td>1013.968789</td>\n",
       "      <td>988.904018</td>\n",
       "      <td>1044.927252</td>\n",
       "      <td>1001.277202</td>\n",
       "      <td>1011.614995</td>\n",
       "      <td>1030.374356</td>\n",
       "      <td>1043.130552</td>\n",
       "      <td>1032.312728</td>\n",
       "      <td>1030.027800</td>\n",
       "      <td>1003.493013</td>\n",
       "    </tr>\n",
       "    <tr>\n",
       "      <th>S8</th>\n",
       "      <td>989.328374</td>\n",
       "      <td>987.871723</td>\n",
       "      <td>979.167888</td>\n",
       "      <td>986.077276</td>\n",
       "      <td>990.210949</td>\n",
       "      <td>999.196521</td>\n",
       "      <td>965.568636</td>\n",
       "      <td>985.501992</td>\n",
       "      <td>967.910603</td>\n",
       "      <td>929.381547</td>\n",
       "      <td>...</td>\n",
       "      <td>1010.081809</td>\n",
       "      <td>1024.632657</td>\n",
       "      <td>1022.387524</td>\n",
       "      <td>1002.604899</td>\n",
       "      <td>995.868875</td>\n",
       "      <td>1018.573960</td>\n",
       "      <td>1013.746581</td>\n",
       "      <td>1033.126673</td>\n",
       "      <td>1028.537959</td>\n",
       "      <td>1036.743506</td>\n",
       "    </tr>\n",
       "    <tr>\n",
       "      <th>S9</th>\n",
       "      <td>982.103073</td>\n",
       "      <td>989.174907</td>\n",
       "      <td>970.629366</td>\n",
       "      <td>981.634835</td>\n",
       "      <td>989.188349</td>\n",
       "      <td>979.220864</td>\n",
       "      <td>962.824423</td>\n",
       "      <td>972.751323</td>\n",
       "      <td>998.222006</td>\n",
       "      <td>925.815262</td>\n",
       "      <td>...</td>\n",
       "      <td>1010.432556</td>\n",
       "      <td>967.001858</td>\n",
       "      <td>1046.588691</td>\n",
       "      <td>1003.864146</td>\n",
       "      <td>1008.242622</td>\n",
       "      <td>1021.989105</td>\n",
       "      <td>1039.101316</td>\n",
       "      <td>1035.247252</td>\n",
       "      <td>1023.048614</td>\n",
       "      <td>1036.277520</td>\n",
       "    </tr>\n",
       "    <tr>\n",
       "      <th>S10</th>\n",
       "      <td>990.058502</td>\n",
       "      <td>989.303935</td>\n",
       "      <td>973.797446</td>\n",
       "      <td>983.336795</td>\n",
       "      <td>967.010943</td>\n",
       "      <td>994.319160</td>\n",
       "      <td>976.804405</td>\n",
       "      <td>973.777448</td>\n",
       "      <td>979.544049</td>\n",
       "      <td>934.393861</td>\n",
       "      <td>...</td>\n",
       "      <td>1008.078415</td>\n",
       "      <td>978.896886</td>\n",
       "      <td>1043.963667</td>\n",
       "      <td>1004.066973</td>\n",
       "      <td>1009.095224</td>\n",
       "      <td>1035.002486</td>\n",
       "      <td>1017.162205</td>\n",
       "      <td>1033.296388</td>\n",
       "      <td>1037.388742</td>\n",
       "      <td>1053.072482</td>\n",
       "    </tr>\n",
       "    <tr>\n",
       "      <th>S11</th>\n",
       "      <td>983.258476</td>\n",
       "      <td>989.076052</td>\n",
       "      <td>990.236816</td>\n",
       "      <td>986.265030</td>\n",
       "      <td>1009.215528</td>\n",
       "      <td>994.279896</td>\n",
       "      <td>985.964153</td>\n",
       "      <td>984.050023</td>\n",
       "      <td>998.638654</td>\n",
       "      <td>942.605350</td>\n",
       "      <td>...</td>\n",
       "      <td>1009.075709</td>\n",
       "      <td>1004.551619</td>\n",
       "      <td>1041.318452</td>\n",
       "      <td>1002.227959</td>\n",
       "      <td>1013.321614</td>\n",
       "      <td>1019.599342</td>\n",
       "      <td>1023.260064</td>\n",
       "      <td>1034.341587</td>\n",
       "      <td>1031.793436</td>\n",
       "      <td>974.459802</td>\n",
       "    </tr>\n",
       "    <tr>\n",
       "      <th>S12</th>\n",
       "      <td>986.801601</td>\n",
       "      <td>988.655431</td>\n",
       "      <td>968.098540</td>\n",
       "      <td>976.272207</td>\n",
       "      <td>1008.815510</td>\n",
       "      <td>989.047736</td>\n",
       "      <td>997.299124</td>\n",
       "      <td>981.949075</td>\n",
       "      <td>966.523850</td>\n",
       "      <td>912.118701</td>\n",
       "      <td>...</td>\n",
       "      <td>1009.782405</td>\n",
       "      <td>1009.864524</td>\n",
       "      <td>1050.625893</td>\n",
       "      <td>1001.627165</td>\n",
       "      <td>1011.193971</td>\n",
       "      <td>1016.518420</td>\n",
       "      <td>1025.446761</td>\n",
       "      <td>1032.915367</td>\n",
       "      <td>1021.712082</td>\n",
       "      <td>1038.229592</td>\n",
       "    </tr>\n",
       "    <tr>\n",
       "      <th>S13</th>\n",
       "      <td>984.034683</td>\n",
       "      <td>988.581178</td>\n",
       "      <td>997.160089</td>\n",
       "      <td>985.248450</td>\n",
       "      <td>985.551465</td>\n",
       "      <td>997.781744</td>\n",
       "      <td>947.538012</td>\n",
       "      <td>990.196952</td>\n",
       "      <td>975.322681</td>\n",
       "      <td>924.569730</td>\n",
       "      <td>...</td>\n",
       "      <td>1008.737952</td>\n",
       "      <td>992.595438</td>\n",
       "      <td>1017.605880</td>\n",
       "      <td>1002.101816</td>\n",
       "      <td>1011.580317</td>\n",
       "      <td>1037.477930</td>\n",
       "      <td>1029.728923</td>\n",
       "      <td>1034.612443</td>\n",
       "      <td>1034.739966</td>\n",
       "      <td>1022.592683</td>\n",
       "    </tr>\n",
       "    <tr>\n",
       "      <th>S14</th>\n",
       "      <td>983.672181</td>\n",
       "      <td>989.154189</td>\n",
       "      <td>993.205379</td>\n",
       "      <td>987.737445</td>\n",
       "      <td>992.008569</td>\n",
       "      <td>986.097155</td>\n",
       "      <td>965.381625</td>\n",
       "      <td>961.180929</td>\n",
       "      <td>1008.643639</td>\n",
       "      <td>942.631883</td>\n",
       "      <td>...</td>\n",
       "      <td>1006.751478</td>\n",
       "      <td>1027.709792</td>\n",
       "      <td>1053.448365</td>\n",
       "      <td>1002.152000</td>\n",
       "      <td>1005.218726</td>\n",
       "      <td>1030.549862</td>\n",
       "      <td>1060.123560</td>\n",
       "      <td>1032.769409</td>\n",
       "      <td>1030.427495</td>\n",
       "      <td>1017.490043</td>\n",
       "    </tr>\n",
       "    <tr>\n",
       "      <th>S15</th>\n",
       "      <td>984.005480</td>\n",
       "      <td>988.027952</td>\n",
       "      <td>1001.695524</td>\n",
       "      <td>976.851962</td>\n",
       "      <td>993.661556</td>\n",
       "      <td>990.721987</td>\n",
       "      <td>985.808585</td>\n",
       "      <td>995.698634</td>\n",
       "      <td>983.803061</td>\n",
       "      <td>927.039233</td>\n",
       "      <td>...</td>\n",
       "      <td>1009.503157</td>\n",
       "      <td>996.001616</td>\n",
       "      <td>1035.614036</td>\n",
       "      <td>1002.694757</td>\n",
       "      <td>1001.715261</td>\n",
       "      <td>1023.944328</td>\n",
       "      <td>1037.613441</td>\n",
       "      <td>1034.554492</td>\n",
       "      <td>1040.323269</td>\n",
       "      <td>1052.794569</td>\n",
       "    </tr>\n",
       "    <tr>\n",
       "      <th>S16</th>\n",
       "      <td>987.252111</td>\n",
       "      <td>988.387219</td>\n",
       "      <td>983.001148</td>\n",
       "      <td>991.776915</td>\n",
       "      <td>1013.050545</td>\n",
       "      <td>995.245266</td>\n",
       "      <td>969.823152</td>\n",
       "      <td>991.417719</td>\n",
       "      <td>985.319583</td>\n",
       "      <td>934.277829</td>\n",
       "      <td>...</td>\n",
       "      <td>1012.200098</td>\n",
       "      <td>1028.186149</td>\n",
       "      <td>1031.648852</td>\n",
       "      <td>1002.070585</td>\n",
       "      <td>1008.198512</td>\n",
       "      <td>1026.566931</td>\n",
       "      <td>1050.556946</td>\n",
       "      <td>1034.234314</td>\n",
       "      <td>1032.799625</td>\n",
       "      <td>1008.951878</td>\n",
       "    </tr>\n",
       "    <tr>\n",
       "      <th>S17</th>\n",
       "      <td>978.141817</td>\n",
       "      <td>989.848597</td>\n",
       "      <td>984.368655</td>\n",
       "      <td>968.720234</td>\n",
       "      <td>993.078746</td>\n",
       "      <td>999.011142</td>\n",
       "      <td>914.873718</td>\n",
       "      <td>989.599499</td>\n",
       "      <td>979.224126</td>\n",
       "      <td>921.751497</td>\n",
       "      <td>...</td>\n",
       "      <td>1009.992420</td>\n",
       "      <td>1010.774279</td>\n",
       "      <td>1032.095776</td>\n",
       "      <td>1002.164927</td>\n",
       "      <td>1005.941177</td>\n",
       "      <td>1030.917203</td>\n",
       "      <td>1030.215677</td>\n",
       "      <td>1034.275688</td>\n",
       "      <td>1028.495620</td>\n",
       "      <td>1051.023465</td>\n",
       "    </tr>\n",
       "    <tr>\n",
       "      <th>S18</th>\n",
       "      <td>979.598859</td>\n",
       "      <td>991.024466</td>\n",
       "      <td>982.361368</td>\n",
       "      <td>978.578477</td>\n",
       "      <td>1007.201639</td>\n",
       "      <td>995.871385</td>\n",
       "      <td>993.598719</td>\n",
       "      <td>993.391217</td>\n",
       "      <td>989.805185</td>\n",
       "      <td>928.848474</td>\n",
       "      <td>...</td>\n",
       "      <td>1012.643742</td>\n",
       "      <td>980.887864</td>\n",
       "      <td>1051.323767</td>\n",
       "      <td>1002.135998</td>\n",
       "      <td>1021.111575</td>\n",
       "      <td>1016.003416</td>\n",
       "      <td>1023.938079</td>\n",
       "      <td>1034.466419</td>\n",
       "      <td>1041.885022</td>\n",
       "      <td>1053.214703</td>\n",
       "    </tr>\n",
       "    <tr>\n",
       "      <th>S19</th>\n",
       "      <td>986.116067</td>\n",
       "      <td>989.289152</td>\n",
       "      <td>963.237946</td>\n",
       "      <td>978.295831</td>\n",
       "      <td>993.140245</td>\n",
       "      <td>984.309487</td>\n",
       "      <td>960.938247</td>\n",
       "      <td>985.349700</td>\n",
       "      <td>969.785178</td>\n",
       "      <td>931.847565</td>\n",
       "      <td>...</td>\n",
       "      <td>1011.675208</td>\n",
       "      <td>1011.991521</td>\n",
       "      <td>1040.687822</td>\n",
       "      <td>1001.770936</td>\n",
       "      <td>1011.883841</td>\n",
       "      <td>1037.804126</td>\n",
       "      <td>1034.037506</td>\n",
       "      <td>1033.873581</td>\n",
       "      <td>1015.845218</td>\n",
       "      <td>1037.679778</td>\n",
       "    </tr>\n",
       "  </tbody>\n",
       "</table>\n",
       "<p>20 rows × 849 columns</p>\n",
       "</div>"
      ],
      "text/plain": [
       "             A0          A1           A2          A3           A4  \\\n",
       "S0   977.593702  988.818948   981.115360  987.508346  1021.753044   \n",
       "S1   985.306708  989.075220   984.758049  973.384512  1024.928823   \n",
       "S2   987.399509  989.493146   968.169698  976.221921   953.734257   \n",
       "S3   984.254492  989.071078   975.111260  991.723504   994.556946   \n",
       "S4   986.161852  988.981814   968.456496  969.248486  1026.879202   \n",
       "S5   985.154593  988.941592   982.912322  971.372614  1011.730439   \n",
       "S6   985.235472  989.352976   971.443995  976.677378   982.008059   \n",
       "S7   986.968797  989.560078   975.772178  977.713056   997.044642   \n",
       "S8   989.328374  987.871723   979.167888  986.077276   990.210949   \n",
       "S9   982.103073  989.174907   970.629366  981.634835   989.188349   \n",
       "S10  990.058502  989.303935   973.797446  983.336795   967.010943   \n",
       "S11  983.258476  989.076052   990.236816  986.265030  1009.215528   \n",
       "S12  986.801601  988.655431   968.098540  976.272207  1008.815510   \n",
       "S13  984.034683  988.581178   997.160089  985.248450   985.551465   \n",
       "S14  983.672181  989.154189   993.205379  987.737445   992.008569   \n",
       "S15  984.005480  988.027952  1001.695524  976.851962   993.661556   \n",
       "S16  987.252111  988.387219   983.001148  991.776915  1013.050545   \n",
       "S17  978.141817  989.848597   984.368655  968.720234   993.078746   \n",
       "S18  979.598859  991.024466   982.361368  978.578477  1007.201639   \n",
       "S19  986.116067  989.289152   963.237946  978.295831   993.140245   \n",
       "\n",
       "              A5           A6           A7           A8          A9  ...  \\\n",
       "S0    987.901808   987.051420   983.915296   972.328784  917.773255  ...   \n",
       "S1    984.953259   973.020353   970.603285   967.350473  920.339440  ...   \n",
       "S2    991.391166   976.519767  1000.178951   990.997734  930.279083  ...   \n",
       "S3   1000.109390   985.565879   985.040627   993.701100  930.041072  ...   \n",
       "S4    987.003438  1012.454035   977.662627   982.983799  938.828405  ...   \n",
       "S5    994.676518  1015.012780  1002.322390   973.857794  931.970298  ...   \n",
       "S6    997.493578   966.169344   971.620744   993.890155  916.108159  ...   \n",
       "S7    998.568272   956.976537   984.223383   997.640738  927.367891  ...   \n",
       "S8    999.196521   965.568636   985.501992   967.910603  929.381547  ...   \n",
       "S9    979.220864   962.824423   972.751323   998.222006  925.815262  ...   \n",
       "S10   994.319160   976.804405   973.777448   979.544049  934.393861  ...   \n",
       "S11   994.279896   985.964153   984.050023   998.638654  942.605350  ...   \n",
       "S12   989.047736   997.299124   981.949075   966.523850  912.118701  ...   \n",
       "S13   997.781744   947.538012   990.196952   975.322681  924.569730  ...   \n",
       "S14   986.097155   965.381625   961.180929  1008.643639  942.631883  ...   \n",
       "S15   990.721987   985.808585   995.698634   983.803061  927.039233  ...   \n",
       "S16   995.245266   969.823152   991.417719   985.319583  934.277829  ...   \n",
       "S17   999.011142   914.873718   989.599499   979.224126  921.751497  ...   \n",
       "S18   995.871385   993.598719   993.391217   989.805185  928.848474  ...   \n",
       "S19   984.309487   960.938247   985.349700   969.785178  931.847565  ...   \n",
       "\n",
       "            A839         A840         A841         A842         A843  \\\n",
       "S0   1012.925078  1005.671947  1039.463156  1003.186899  1003.107432   \n",
       "S1   1010.028394  1004.525579  1048.258273  1001.454633  1009.861569   \n",
       "S2   1008.907605   980.639444  1025.420459  1002.016718  1011.732242   \n",
       "S3   1011.811244  1006.032492  1041.399186  1002.174394  1007.031590   \n",
       "S4   1009.697194   999.070227  1042.210841  1002.434711  1004.535058   \n",
       "S5   1010.282304   992.475508  1023.040828  1002.434484  1012.868298   \n",
       "S6   1013.060241  1011.218694  1037.007788  1002.615129  1008.520508   \n",
       "S7   1013.968789   988.904018  1044.927252  1001.277202  1011.614995   \n",
       "S8   1010.081809  1024.632657  1022.387524  1002.604899   995.868875   \n",
       "S9   1010.432556   967.001858  1046.588691  1003.864146  1008.242622   \n",
       "S10  1008.078415   978.896886  1043.963667  1004.066973  1009.095224   \n",
       "S11  1009.075709  1004.551619  1041.318452  1002.227959  1013.321614   \n",
       "S12  1009.782405  1009.864524  1050.625893  1001.627165  1011.193971   \n",
       "S13  1008.737952   992.595438  1017.605880  1002.101816  1011.580317   \n",
       "S14  1006.751478  1027.709792  1053.448365  1002.152000  1005.218726   \n",
       "S15  1009.503157   996.001616  1035.614036  1002.694757  1001.715261   \n",
       "S16  1012.200098  1028.186149  1031.648852  1002.070585  1008.198512   \n",
       "S17  1009.992420  1010.774279  1032.095776  1002.164927  1005.941177   \n",
       "S18  1012.643742   980.887864  1051.323767  1002.135998  1021.111575   \n",
       "S19  1011.675208  1011.991521  1040.687822  1001.770936  1011.883841   \n",
       "\n",
       "            A844         A845         A846         A847         A848  \n",
       "S0   1031.893630  1012.225181  1034.633651  1039.120098  1046.223158  \n",
       "S1   1018.369119  1029.756703  1034.875826  1025.641431  1030.644044  \n",
       "S2   1025.604021  1029.437918  1033.682692  1010.064163   989.602051  \n",
       "S3   1043.480002   999.875924  1034.399345  1037.046131  1042.045537  \n",
       "S4   1047.050877  1024.424671  1036.286230  1027.877599  1021.088149  \n",
       "S5   1027.157005  1034.863876  1032.891619  1023.617162  1032.953951  \n",
       "S6   1024.450102  1035.760556  1033.953794  1025.392629  1011.559979  \n",
       "S7   1030.374356  1043.130552  1032.312728  1030.027800  1003.493013  \n",
       "S8   1018.573960  1013.746581  1033.126673  1028.537959  1036.743506  \n",
       "S9   1021.989105  1039.101316  1035.247252  1023.048614  1036.277520  \n",
       "S10  1035.002486  1017.162205  1033.296388  1037.388742  1053.072482  \n",
       "S11  1019.599342  1023.260064  1034.341587  1031.793436   974.459802  \n",
       "S12  1016.518420  1025.446761  1032.915367  1021.712082  1038.229592  \n",
       "S13  1037.477930  1029.728923  1034.612443  1034.739966  1022.592683  \n",
       "S14  1030.549862  1060.123560  1032.769409  1030.427495  1017.490043  \n",
       "S15  1023.944328  1037.613441  1034.554492  1040.323269  1052.794569  \n",
       "S16  1026.566931  1050.556946  1034.234314  1032.799625  1008.951878  \n",
       "S17  1030.917203  1030.215677  1034.275688  1028.495620  1051.023465  \n",
       "S18  1016.003416  1023.938079  1034.466419  1041.885022  1053.214703  \n",
       "S19  1037.804126  1034.037506  1033.873581  1015.845218  1037.679778  \n",
       "\n",
       "[20 rows x 849 columns]"
      ]
     },
     "execution_count": 32,
     "metadata": {},
     "output_type": "execute_result"
    }
   ],
   "source": [
    "quantsT = quants.transpose()\n",
    "quantsT"
   ]
  },
  {
   "cell_type": "code",
   "execution_count": 72,
   "metadata": {
    "slideshow": {
     "slide_type": "subslide"
    }
   },
   "outputs": [],
   "source": [
    "from sklearn.decomposition import PCA\n",
    "\n",
    "pc = PCA( n_components = 2 ).fit_transform( quantsT )"
   ]
  },
  {
   "cell_type": "markdown",
   "metadata": {
    "slideshow": {
     "slide_type": "fragment"
    }
   },
   "source": [
    "*Note*: `pc` is a **2** dimensioned array."
   ]
  },
  {
   "cell_type": "code",
   "execution_count": 93,
   "metadata": {
    "slideshow": {
     "slide_type": "-"
    }
   },
   "outputs": [
    {
     "data": {
      "text/plain": [
       "array([[ 380.24035216,   -5.73624593],\n",
       "       [ 369.39076808,    4.27471363],\n",
       "       [ 399.328555  ,  119.22198112],\n",
       "       [ 358.29460427,   21.65258935],\n",
       "       [ 349.35385317,   -5.03663495],\n",
       "       [ 352.13124604,   77.67108349],\n",
       "       [ 363.45438203,  -55.98439103],\n",
       "       [ 357.44806879,  -51.52049907],\n",
       "       [ 350.83327263,   18.07380693],\n",
       "       [ 368.80522602, -128.55785698],\n",
       "       [-376.45899029, -157.04387431],\n",
       "       [-359.68870031,  185.07290356],\n",
       "       [-350.60700012,  -29.28099587],\n",
       "       [-355.90230549, -110.35374595],\n",
       "       [-363.89199905,   61.45851108],\n",
       "       [-369.40511359,   31.27534312],\n",
       "       [-370.41414387,   95.11826483],\n",
       "       [-379.28420454, -102.17720066],\n",
       "       [-355.27002085,  -36.38758982],\n",
       "       [-368.35785008,   68.25983744]])"
      ]
     },
     "execution_count": 93,
     "metadata": {},
     "output_type": "execute_result"
    }
   ],
   "source": [
    "pc"
   ]
  },
  {
   "cell_type": "code",
   "execution_count": 94,
   "metadata": {
    "slideshow": {
     "slide_type": "subslide"
    }
   },
   "outputs": [
    {
     "data": {
      "text/plain": [
       "-376.45899028532165"
      ]
     },
     "execution_count": 94,
     "metadata": {},
     "output_type": "execute_result"
    }
   ],
   "source": [
    "pc[10, 0]"
   ]
  },
  {
   "cell_type": "code",
   "execution_count": 74,
   "metadata": {
    "slideshow": {
     "slide_type": "fragment"
    }
   },
   "outputs": [
    {
     "data": {
      "text/plain": [
       "array([-376.45899029, -157.04387431])"
      ]
     },
     "execution_count": 74,
     "metadata": {},
     "output_type": "execute_result"
    }
   ],
   "source": [
    "pc[10, :]"
   ]
  },
  {
   "cell_type": "markdown",
   "metadata": {
    "slideshow": {
     "slide_type": "fragment"
    }
   },
   "source": [
    "Let's plot PC1 and PC2 then..."
   ]
  },
  {
   "cell_type": "code",
   "execution_count": 75,
   "metadata": {
    "slideshow": {
     "slide_type": "fragment"
    },
    "tutorial": {
     "input": "inherit",
     "output": "subslide"
    }
   },
   "outputs": [
    {
     "data": {
      "image/png": "[encoded data removed]",
      "text/plain": [
       "<Figure size 720x720 with 1 Axes>"
      ]
     },
     "metadata": {
      "needs_background": "light"
     },
     "output_type": "display_data"
    }
   ],
   "source": [
    "from matplotlib.pyplot import scatter\n",
    "\n",
    "scatter( x = pc[:,0], y = pc[:,1] )\n",
    "pass"
   ]
  },
  {
   "cell_type": "markdown",
   "metadata": {
    "slideshow": {
     "slide_type": "fragment"
    }
   },
   "source": [
    "*This plot doesn't show us much!*"
   ]
  },
  {
   "cell_type": "markdown",
   "metadata": {
    "slideshow": {
     "slide_type": "subslide"
    }
   },
   "source": [
    "### Mapping\n",
    "\n",
    "Let's map our sample conditions on to it. Create maps (``dict``s) for colours and names."
   ]
  },
  {
   "cell_type": "code",
   "execution_count": 72,
   "metadata": {
    "slideshow": {
     "slide_type": "fragment"
    }
   },
   "outputs": [],
   "source": [
    "colours = { 0: \"dodgerblue\", 1: \"deeppink\"   }\n",
    "names   = { 0: \"control\",    1: \"treatment\"  }"
   ]
  },
  {
   "cell_type": "code",
   "execution_count": 74,
   "metadata": {
    "slideshow": {
     "slide_type": "fragment"
    },
    "tutorial": {
     "output": "subslide"
    }
   },
   "outputs": [
    {
     "data": {
      "text/plain": [
       "['dodgerblue',\n",
       " 'dodgerblue',\n",
       " 'dodgerblue',\n",
       " 'dodgerblue',\n",
       " 'dodgerblue',\n",
       " 'dodgerblue',\n",
       " 'dodgerblue',\n",
       " 'dodgerblue',\n",
       " 'dodgerblue',\n",
       " 'dodgerblue',\n",
       " 'deeppink',\n",
       " 'deeppink',\n",
       " 'deeppink',\n",
       " 'deeppink',\n",
       " 'deeppink',\n",
       " 'deeppink',\n",
       " 'deeppink',\n",
       " 'deeppink',\n",
       " 'deeppink',\n",
       " 'deeppink']"
      ]
     },
     "execution_count": 74,
     "metadata": {},
     "output_type": "execute_result"
    }
   ],
   "source": [
    "sample_colours = [colours[x] for x in samples[\"condition_index\"]]\n",
    "sample_colours"
   ]
  },
  {
   "cell_type": "markdown",
   "metadata": {
    "slideshow": {
     "slide_type": "subslide"
    }
   },
   "source": [
    "Use our colours in the plot, and put the names on a legend:"
   ]
  },
  {
   "cell_type": "code",
   "execution_count": 96,
   "metadata": {
    "slideshow": {
     "slide_type": "fragment"
    },
    "tutorial": {
     "input": "inherit",
     "output": "subslide"
    }
   },
   "outputs": [
    {
     "data": {
      "image/png": "[encoded data removed]",
      "text/plain": [
       "<Figure size 720x720 with 1 Axes>"
      ]
     },
     "metadata": {
      "needs_background": "light"
     },
     "output_type": "display_data"
    }
   ],
   "source": [
    "from matplotlib.pyplot import scatter, legend\n",
    "from matplotlib.patches import Patch\n",
    "\n",
    "scatter( x = pc[:,0], y = pc[:,1], c = sample_colours )\n",
    "\n",
    "legend( handles = [ Patch(color = colours[0]),\n",
    "                    Patch(color = colours[1]) ],\n",
    "        labels  = [ names[0],\n",
    "                    names[1] ],\n",
    "        loc      = \"upper center\" )\n",
    "pass"
   ]
  },
  {
   "cell_type": "markdown",
   "metadata": {
    "slideshow": {
     "slide_type": "slide"
    }
   },
   "source": [
    "## Finding argmax\n",
    "What is:\n",
    "\n",
    "$\\underset{p \\in P}{\\operatorname{argmax}} \\sum_{s = s_0}^{s_m} X_{a,s}$\n",
    "\n",
    "i.e. the most abundant *peptide*:"
   ]
  },
  {
   "cell_type": "code",
   "execution_count": 78,
   "metadata": {
    "slideshow": {
     "slide_type": "fragment"
    }
   },
   "outputs": [
    {
     "data": {
      "text/plain": [
       "'A377'"
      ]
     },
     "execution_count": 78,
     "metadata": {},
     "output_type": "execute_result"
    }
   ],
   "source": [
    "max_peptide_id = quantsT.apply( sum ).idxmax()\n",
    "max_peptide_id"
   ]
  },
  {
   "cell_type": "markdown",
   "metadata": {
    "slideshow": {
     "slide_type": "fragment"
    }
   },
   "source": [
    "We can find out what *protein* this *peptide* is in from the meta-data we loaded:"
   ]
  },
  {
   "cell_type": "code",
   "execution_count": 101,
   "metadata": {
    "slideshow": {
     "slide_type": "fragment"
    }
   },
   "outputs": [
    {
     "data": {
      "text/plain": [
       "protein                                                      Q02962\n",
       "peptide                                                IPLQDIVVHNRV\n",
       "peptide_length                                                   12\n",
       "origin            NormalPeptide( Protein( q = [1322.615290141028...\n",
       "Name: A377, dtype: object"
      ]
     },
     "execution_count": 101,
     "metadata": {},
     "output_type": "execute_result"
    }
   ],
   "source": [
    "m = peptides.loc[ max_peptide_id ]\n",
    "m"
   ]
  },
  {
   "cell_type": "code",
   "execution_count": 102,
   "metadata": {
    "slideshow": {
     "slide_type": "subslide"
    }
   },
   "outputs": [
    {
     "data": {
      "text/plain": [
       "'Q02962'"
      ]
     },
     "execution_count": 102,
     "metadata": {},
     "output_type": "execute_result"
    }
   ],
   "source": [
    "p = m.protein\n",
    "p"
   ]
  },
  {
   "cell_type": "markdown",
   "metadata": {
    "slideshow": {
     "slide_type": "fragment"
    }
   },
   "source": [
    "We can create the subset of all the *peptides* for this *protein*."
   ]
  },
  {
   "cell_type": "code",
   "execution_count": 108,
   "metadata": {
    "slideshow": {
     "slide_type": "fragment"
    }
   },
   "outputs": [
    {
     "data": {
      "text/plain": [
       "[False,\n",
       " False,\n",
       " False,\n",
       " False,\n",
       " False,\n",
       " False,\n",
       " False,\n",
       " False,\n",
       " False,\n",
       " False,\n",
       " False,\n",
       " False,\n",
       " False,\n",
       " False,\n",
       " False,\n",
       " False,\n",
       " False,\n",
       " False,\n",
       " False,\n",
       " False,\n",
       " False,\n",
       " False,\n",
       " False,\n",
       " False,\n",
       " False,\n",
       " False,\n",
       " False,\n",
       " False,\n",
       " False,\n",
       " False,\n",
       " False,\n",
       " False,\n",
       " False,\n",
       " False,\n",
       " False,\n",
       " False,\n",
       " False,\n",
       " False,\n",
       " False,\n",
       " False,\n",
       " False,\n",
       " False,\n",
       " False,\n",
       " False,\n",
       " False,\n",
       " False,\n",
       " False,\n",
       " False,\n",
       " False,\n",
       " False,\n",
       " False,\n",
       " False,\n",
       " False,\n",
       " False,\n",
       " False,\n",
       " False,\n",
       " False,\n",
       " False,\n",
       " False,\n",
       " False,\n",
       " False,\n",
       " False,\n",
       " False,\n",
       " False,\n",
       " False,\n",
       " False,\n",
       " False,\n",
       " False,\n",
       " False,\n",
       " False,\n",
       " False,\n",
       " False,\n",
       " False,\n",
       " False,\n",
       " False,\n",
       " False,\n",
       " False,\n",
       " False,\n",
       " False,\n",
       " False,\n",
       " False,\n",
       " False,\n",
       " False,\n",
       " False,\n",
       " False,\n",
       " False,\n",
       " False,\n",
       " False,\n",
       " False,\n",
       " False,\n",
       " False,\n",
       " False,\n",
       " False,\n",
       " False,\n",
       " False,\n",
       " False,\n",
       " False,\n",
       " False,\n",
       " False,\n",
       " False,\n",
       " False,\n",
       " False,\n",
       " False,\n",
       " False,\n",
       " False,\n",
       " False,\n",
       " False,\n",
       " False,\n",
       " False,\n",
       " False,\n",
       " False,\n",
       " False,\n",
       " False,\n",
       " False,\n",
       " False,\n",
       " False,\n",
       " False,\n",
       " False,\n",
       " False,\n",
       " False,\n",
       " False,\n",
       " False,\n",
       " False,\n",
       " False,\n",
       " False,\n",
       " False,\n",
       " False,\n",
       " False,\n",
       " False,\n",
       " False,\n",
       " False,\n",
       " False,\n",
       " False,\n",
       " False,\n",
       " False,\n",
       " False,\n",
       " False,\n",
       " False,\n",
       " False,\n",
       " False,\n",
       " False,\n",
       " False,\n",
       " False,\n",
       " False,\n",
       " False,\n",
       " False,\n",
       " False,\n",
       " False,\n",
       " False,\n",
       " False,\n",
       " False,\n",
       " False,\n",
       " False,\n",
       " False,\n",
       " False,\n",
       " False,\n",
       " False,\n",
       " False,\n",
       " False,\n",
       " False,\n",
       " False,\n",
       " False,\n",
       " False,\n",
       " False,\n",
       " False,\n",
       " False,\n",
       " False,\n",
       " False,\n",
       " False,\n",
       " False,\n",
       " False,\n",
       " False,\n",
       " False,\n",
       " False,\n",
       " False,\n",
       " False,\n",
       " False,\n",
       " False,\n",
       " False,\n",
       " False,\n",
       " False,\n",
       " False,\n",
       " False,\n",
       " False,\n",
       " False,\n",
       " False,\n",
       " False,\n",
       " False,\n",
       " False,\n",
       " False,\n",
       " False,\n",
       " False,\n",
       " False,\n",
       " False,\n",
       " False,\n",
       " False,\n",
       " False,\n",
       " False,\n",
       " False,\n",
       " False,\n",
       " False,\n",
       " False,\n",
       " False,\n",
       " False,\n",
       " False,\n",
       " False,\n",
       " False,\n",
       " False,\n",
       " False,\n",
       " False,\n",
       " False,\n",
       " False,\n",
       " False,\n",
       " False,\n",
       " False,\n",
       " False,\n",
       " False,\n",
       " False,\n",
       " False,\n",
       " False,\n",
       " False,\n",
       " False,\n",
       " False,\n",
       " False,\n",
       " False,\n",
       " False,\n",
       " False,\n",
       " False,\n",
       " False,\n",
       " False,\n",
       " False,\n",
       " False,\n",
       " False,\n",
       " False,\n",
       " False,\n",
       " False,\n",
       " False,\n",
       " False,\n",
       " False,\n",
       " False,\n",
       " False,\n",
       " False,\n",
       " False,\n",
       " False,\n",
       " False,\n",
       " False,\n",
       " False,\n",
       " False,\n",
       " False,\n",
       " False,\n",
       " False,\n",
       " False,\n",
       " False,\n",
       " False,\n",
       " False,\n",
       " False,\n",
       " False,\n",
       " False,\n",
       " False,\n",
       " False,\n",
       " False,\n",
       " False,\n",
       " False,\n",
       " False,\n",
       " False,\n",
       " False,\n",
       " False,\n",
       " False,\n",
       " False,\n",
       " False,\n",
       " False,\n",
       " False,\n",
       " False,\n",
       " False,\n",
       " False,\n",
       " False,\n",
       " False,\n",
       " False,\n",
       " False,\n",
       " False,\n",
       " False,\n",
       " False,\n",
       " False,\n",
       " False,\n",
       " False,\n",
       " False,\n",
       " False,\n",
       " False,\n",
       " False,\n",
       " False,\n",
       " False,\n",
       " False,\n",
       " False,\n",
       " False,\n",
       " False,\n",
       " False,\n",
       " False,\n",
       " False,\n",
       " False,\n",
       " False,\n",
       " False,\n",
       " False,\n",
       " False,\n",
       " False,\n",
       " False,\n",
       " False,\n",
       " False,\n",
       " False,\n",
       " False,\n",
       " False,\n",
       " False,\n",
       " False,\n",
       " False,\n",
       " False,\n",
       " False,\n",
       " False,\n",
       " False,\n",
       " False,\n",
       " False,\n",
       " False,\n",
       " False,\n",
       " False,\n",
       " False,\n",
       " False,\n",
       " False,\n",
       " False,\n",
       " False,\n",
       " False,\n",
       " False,\n",
       " False,\n",
       " False,\n",
       " False,\n",
       " False,\n",
       " False,\n",
       " False,\n",
       " False,\n",
       " False,\n",
       " False,\n",
       " False,\n",
       " False,\n",
       " False,\n",
       " False,\n",
       " False,\n",
       " False,\n",
       " False,\n",
       " False,\n",
       " False,\n",
       " False,\n",
       " False,\n",
       " False,\n",
       " False,\n",
       " False,\n",
       " False,\n",
       " False,\n",
       " False,\n",
       " False,\n",
       " False,\n",
       " False,\n",
       " False,\n",
       " False,\n",
       " False,\n",
       " False,\n",
       " False,\n",
       " False,\n",
       " False,\n",
       " False,\n",
       " False,\n",
       " False,\n",
       " False,\n",
       " False,\n",
       " False,\n",
       " False,\n",
       " False,\n",
       " False,\n",
       " False,\n",
       " True,\n",
       " True,\n",
       " True,\n",
       " True,\n",
       " True,\n",
       " True,\n",
       " True,\n",
       " True,\n",
       " True,\n",
       " True,\n",
       " False,\n",
       " False,\n",
       " False,\n",
       " False,\n",
       " False,\n",
       " False,\n",
       " False,\n",
       " False,\n",
       " False,\n",
       " False,\n",
       " False,\n",
       " False,\n",
       " False,\n",
       " False,\n",
       " False,\n",
       " False,\n",
       " False,\n",
       " False,\n",
       " False,\n",
       " False,\n",
       " False,\n",
       " False,\n",
       " False,\n",
       " False,\n",
       " False,\n",
       " False,\n",
       " False,\n",
       " False,\n",
       " False,\n",
       " False,\n",
       " False,\n",
       " False,\n",
       " False,\n",
       " False,\n",
       " False,\n",
       " False,\n",
       " False,\n",
       " False,\n",
       " False,\n",
       " False,\n",
       " False,\n",
       " False,\n",
       " False,\n",
       " False,\n",
       " False,\n",
       " False,\n",
       " False,\n",
       " False,\n",
       " False,\n",
       " False,\n",
       " False,\n",
       " False,\n",
       " False,\n",
       " False,\n",
       " False,\n",
       " False,\n",
       " False,\n",
       " False,\n",
       " False,\n",
       " False,\n",
       " False,\n",
       " False,\n",
       " False,\n",
       " False,\n",
       " False,\n",
       " False,\n",
       " False,\n",
       " False,\n",
       " False,\n",
       " False,\n",
       " False,\n",
       " False,\n",
       " False,\n",
       " False,\n",
       " False,\n",
       " False,\n",
       " False,\n",
       " False,\n",
       " False,\n",
       " False,\n",
       " False,\n",
       " False,\n",
       " False,\n",
       " False,\n",
       " False,\n",
       " False,\n",
       " False,\n",
       " False,\n",
       " False,\n",
       " False,\n",
       " False,\n",
       " False,\n",
       " False,\n",
       " False,\n",
       " False,\n",
       " False,\n",
       " False,\n",
       " False,\n",
       " False,\n",
       " False,\n",
       " False,\n",
       " False,\n",
       " False,\n",
       " False,\n",
       " False,\n",
       " False,\n",
       " False,\n",
       " False,\n",
       " False,\n",
       " False,\n",
       " False,\n",
       " False,\n",
       " False,\n",
       " False,\n",
       " False,\n",
       " False,\n",
       " False,\n",
       " False,\n",
       " False,\n",
       " False,\n",
       " False,\n",
       " False,\n",
       " False,\n",
       " False,\n",
       " False,\n",
       " False,\n",
       " False,\n",
       " False,\n",
       " False,\n",
       " False,\n",
       " False,\n",
       " False,\n",
       " False,\n",
       " False,\n",
       " False,\n",
       " False,\n",
       " False,\n",
       " False,\n",
       " False,\n",
       " False,\n",
       " False,\n",
       " False,\n",
       " False,\n",
       " False,\n",
       " False,\n",
       " False,\n",
       " False,\n",
       " False,\n",
       " False,\n",
       " False,\n",
       " False,\n",
       " False,\n",
       " False,\n",
       " False,\n",
       " False,\n",
       " False,\n",
       " False,\n",
       " False,\n",
       " False,\n",
       " False,\n",
       " False,\n",
       " False,\n",
       " False,\n",
       " False,\n",
       " False,\n",
       " False,\n",
       " False,\n",
       " False,\n",
       " False,\n",
       " False,\n",
       " False,\n",
       " False,\n",
       " False,\n",
       " False,\n",
       " False,\n",
       " False,\n",
       " False,\n",
       " False,\n",
       " False,\n",
       " False,\n",
       " False,\n",
       " False,\n",
       " False,\n",
       " False,\n",
       " False,\n",
       " False,\n",
       " False,\n",
       " False,\n",
       " False,\n",
       " False,\n",
       " False,\n",
       " False,\n",
       " False,\n",
       " False,\n",
       " False,\n",
       " False,\n",
       " False,\n",
       " False,\n",
       " False,\n",
       " False,\n",
       " False,\n",
       " False,\n",
       " False,\n",
       " False,\n",
       " False,\n",
       " False,\n",
       " False,\n",
       " False,\n",
       " False,\n",
       " False,\n",
       " False,\n",
       " False,\n",
       " False,\n",
       " False,\n",
       " False,\n",
       " False,\n",
       " False,\n",
       " False,\n",
       " False,\n",
       " False,\n",
       " False,\n",
       " False,\n",
       " False,\n",
       " False,\n",
       " False,\n",
       " False,\n",
       " False,\n",
       " False,\n",
       " False,\n",
       " False,\n",
       " False,\n",
       " False,\n",
       " False,\n",
       " False,\n",
       " False,\n",
       " False,\n",
       " False,\n",
       " False,\n",
       " False,\n",
       " False,\n",
       " False,\n",
       " False,\n",
       " False,\n",
       " False,\n",
       " False,\n",
       " False,\n",
       " False,\n",
       " False,\n",
       " False,\n",
       " False,\n",
       " False,\n",
       " False,\n",
       " False,\n",
       " False,\n",
       " False,\n",
       " False,\n",
       " False,\n",
       " False,\n",
       " False,\n",
       " False,\n",
       " False,\n",
       " False,\n",
       " False,\n",
       " False,\n",
       " False,\n",
       " False,\n",
       " False,\n",
       " False,\n",
       " False,\n",
       " False,\n",
       " False,\n",
       " False,\n",
       " False,\n",
       " False,\n",
       " False,\n",
       " False,\n",
       " False,\n",
       " False,\n",
       " False,\n",
       " False,\n",
       " False,\n",
       " False,\n",
       " False,\n",
       " False,\n",
       " False,\n",
       " False,\n",
       " False,\n",
       " False,\n",
       " False,\n",
       " False,\n",
       " False,\n",
       " False,\n",
       " False,\n",
       " False,\n",
       " False,\n",
       " False,\n",
       " False,\n",
       " False,\n",
       " False,\n",
       " False,\n",
       " False,\n",
       " False,\n",
       " False,\n",
       " False,\n",
       " False,\n",
       " False,\n",
       " False,\n",
       " False,\n",
       " False,\n",
       " False,\n",
       " False,\n",
       " False,\n",
       " False,\n",
       " False,\n",
       " False,\n",
       " False,\n",
       " False,\n",
       " False,\n",
       " False,\n",
       " False,\n",
       " False,\n",
       " False,\n",
       " False,\n",
       " False,\n",
       " False,\n",
       " False,\n",
       " False,\n",
       " False,\n",
       " False,\n",
       " False,\n",
       " False,\n",
       " False,\n",
       " False,\n",
       " False,\n",
       " False,\n",
       " False,\n",
       " False,\n",
       " False,\n",
       " False,\n",
       " False,\n",
       " False,\n",
       " False,\n",
       " False,\n",
       " False,\n",
       " False,\n",
       " False,\n",
       " False,\n",
       " False,\n",
       " False,\n",
       " False,\n",
       " False,\n",
       " False,\n",
       " False,\n",
       " False,\n",
       " False,\n",
       " False,\n",
       " False,\n",
       " False,\n",
       " False,\n",
       " False,\n",
       " False,\n",
       " False,\n",
       " False,\n",
       " False,\n",
       " False,\n",
       " False,\n",
       " False,\n",
       " False,\n",
       " False,\n",
       " False,\n",
       " False,\n",
       " False,\n",
       " False,\n",
       " False,\n",
       " False,\n",
       " False,\n",
       " False,\n",
       " False,\n",
       " False,\n",
       " False,\n",
       " False,\n",
       " False,\n",
       " False,\n",
       " False,\n",
       " False,\n",
       " False,\n",
       " False,\n",
       " False,\n",
       " False,\n",
       " False,\n",
       " False,\n",
       " False,\n",
       " False,\n",
       " False,\n",
       " False,\n",
       " False,\n",
       " False,\n",
       " False,\n",
       " False,\n",
       " False,\n",
       " False,\n",
       " False,\n",
       " False,\n",
       " False,\n",
       " False,\n",
       " False,\n",
       " False,\n",
       " False,\n",
       " False,\n",
       " False,\n",
       " False,\n",
       " False,\n",
       " False,\n",
       " False,\n",
       " False,\n",
       " False,\n",
       " False,\n",
       " False,\n",
       " False,\n",
       " False,\n",
       " False,\n",
       " False,\n",
       " False,\n",
       " False,\n",
       " False,\n",
       " False,\n",
       " False,\n",
       " False,\n",
       " False,\n",
       " False,\n",
       " False,\n",
       " False,\n",
       " False,\n",
       " False,\n",
       " False,\n",
       " False,\n",
       " False,\n",
       " False,\n",
       " False,\n",
       " False,\n",
       " False,\n",
       " False,\n",
       " False,\n",
       " False,\n",
       " False,\n",
       " False,\n",
       " False,\n",
       " False,\n",
       " False,\n",
       " False,\n",
       " False,\n",
       " False,\n",
       " False,\n",
       " False,\n",
       " False,\n",
       " False,\n",
       " False,\n",
       " False,\n",
       " False,\n",
       " False,\n",
       " False,\n",
       " False,\n",
       " False,\n",
       " False]"
      ]
     },
     "execution_count": 108,
     "metadata": {},
     "output_type": "execute_result"
    }
   ],
   "source": [
    "w = [x == p for x in peptides.protein]\n",
    "w"
   ]
  },
  {
   "cell_type": "code",
   "execution_count": 105,
   "metadata": {
    "slideshow": {
     "slide_type": "subslide"
    }
   },
   "outputs": [
    {
     "data": {
      "text/html": [
       "<div>\n",
       "<style scoped>\n",
       "    .dataframe tbody tr th:only-of-type {\n",
       "        vertical-align: middle;\n",
       "    }\n",
       "\n",
       "    .dataframe tbody tr th {\n",
       "        vertical-align: top;\n",
       "    }\n",
       "\n",
       "    .dataframe thead th {\n",
       "        text-align: right;\n",
       "    }\n",
       "</style>\n",
       "<table border=\"1\" class=\"dataframe\">\n",
       "  <thead>\n",
       "    <tr style=\"text-align: right;\">\n",
       "      <th></th>\n",
       "      <th>S0</th>\n",
       "      <th>S1</th>\n",
       "      <th>S2</th>\n",
       "      <th>S3</th>\n",
       "      <th>S4</th>\n",
       "      <th>S5</th>\n",
       "      <th>S6</th>\n",
       "      <th>S7</th>\n",
       "      <th>S8</th>\n",
       "      <th>S9</th>\n",
       "      <th>S10</th>\n",
       "      <th>S11</th>\n",
       "      <th>S12</th>\n",
       "      <th>S13</th>\n",
       "      <th>S14</th>\n",
       "      <th>S15</th>\n",
       "      <th>S16</th>\n",
       "      <th>S17</th>\n",
       "      <th>S18</th>\n",
       "      <th>S19</th>\n",
       "    </tr>\n",
       "  </thead>\n",
       "  <tbody>\n",
       "    <tr>\n",
       "      <th>A375</th>\n",
       "      <td>1289.884588</td>\n",
       "      <td>1352.221385</td>\n",
       "      <td>1309.759608</td>\n",
       "      <td>1327.390776</td>\n",
       "      <td>1334.051887</td>\n",
       "      <td>1337.930460</td>\n",
       "      <td>1351.169012</td>\n",
       "      <td>1346.176773</td>\n",
       "      <td>1353.483923</td>\n",
       "      <td>1305.039661</td>\n",
       "      <td>1237.623801</td>\n",
       "      <td>1231.265472</td>\n",
       "      <td>1247.908816</td>\n",
       "      <td>1272.553242</td>\n",
       "      <td>1280.258317</td>\n",
       "      <td>1279.186572</td>\n",
       "      <td>1271.830017</td>\n",
       "      <td>1267.082044</td>\n",
       "      <td>1291.176919</td>\n",
       "      <td>1274.841449</td>\n",
       "    </tr>\n",
       "    <tr>\n",
       "      <th>A376</th>\n",
       "      <td>1316.820696</td>\n",
       "      <td>1330.257087</td>\n",
       "      <td>1310.743585</td>\n",
       "      <td>1324.079660</td>\n",
       "      <td>1316.984404</td>\n",
       "      <td>1324.650957</td>\n",
       "      <td>1313.952312</td>\n",
       "      <td>1308.282999</td>\n",
       "      <td>1311.527151</td>\n",
       "      <td>1322.934932</td>\n",
       "      <td>1255.443478</td>\n",
       "      <td>1254.154043</td>\n",
       "      <td>1259.105651</td>\n",
       "      <td>1248.970647</td>\n",
       "      <td>1273.004336</td>\n",
       "      <td>1249.367985</td>\n",
       "      <td>1247.551526</td>\n",
       "      <td>1263.448690</td>\n",
       "      <td>1234.272366</td>\n",
       "      <td>1263.829252</td>\n",
       "    </tr>\n",
       "    <tr>\n",
       "      <th>A377</th>\n",
       "      <td>1341.794567</td>\n",
       "      <td>1342.728338</td>\n",
       "      <td>1343.310928</td>\n",
       "      <td>1340.863258</td>\n",
       "      <td>1344.045378</td>\n",
       "      <td>1342.855602</td>\n",
       "      <td>1343.289117</td>\n",
       "      <td>1342.611470</td>\n",
       "      <td>1343.809108</td>\n",
       "      <td>1344.192860</td>\n",
       "      <td>1282.169417</td>\n",
       "      <td>1282.746680</td>\n",
       "      <td>1282.337149</td>\n",
       "      <td>1281.866610</td>\n",
       "      <td>1281.684609</td>\n",
       "      <td>1282.531104</td>\n",
       "      <td>1281.333598</td>\n",
       "      <td>1279.579990</td>\n",
       "      <td>1281.936016</td>\n",
       "      <td>1281.528500</td>\n",
       "    </tr>\n",
       "    <tr>\n",
       "      <th>A378</th>\n",
       "      <td>1332.641007</td>\n",
       "      <td>1332.608839</td>\n",
       "      <td>1333.381744</td>\n",
       "      <td>1333.038584</td>\n",
       "      <td>1333.153627</td>\n",
       "      <td>1332.057053</td>\n",
       "      <td>1331.635599</td>\n",
       "      <td>1333.550383</td>\n",
       "      <td>1331.998051</td>\n",
       "      <td>1332.697912</td>\n",
       "      <td>1269.997654</td>\n",
       "      <td>1270.391603</td>\n",
       "      <td>1271.212745</td>\n",
       "      <td>1270.421521</td>\n",
       "      <td>1270.419244</td>\n",
       "      <td>1270.962460</td>\n",
       "      <td>1271.446854</td>\n",
       "      <td>1271.458918</td>\n",
       "      <td>1270.650107</td>\n",
       "      <td>1270.851502</td>\n",
       "    </tr>\n",
       "    <tr>\n",
       "      <th>A379</th>\n",
       "      <td>1329.521502</td>\n",
       "      <td>1321.779244</td>\n",
       "      <td>1322.721706</td>\n",
       "      <td>1309.723440</td>\n",
       "      <td>1332.059528</td>\n",
       "      <td>1323.237750</td>\n",
       "      <td>1314.881080</td>\n",
       "      <td>1320.994012</td>\n",
       "      <td>1321.487281</td>\n",
       "      <td>1318.344750</td>\n",
       "      <td>1267.135220</td>\n",
       "      <td>1253.541182</td>\n",
       "      <td>1257.540093</td>\n",
       "      <td>1260.172730</td>\n",
       "      <td>1260.869263</td>\n",
       "      <td>1258.681056</td>\n",
       "      <td>1262.166899</td>\n",
       "      <td>1250.853962</td>\n",
       "      <td>1267.741021</td>\n",
       "      <td>1258.913105</td>\n",
       "    </tr>\n",
       "    <tr>\n",
       "      <th>A380</th>\n",
       "      <td>1324.333198</td>\n",
       "      <td>1330.561363</td>\n",
       "      <td>1298.390280</td>\n",
       "      <td>1347.793252</td>\n",
       "      <td>1306.113679</td>\n",
       "      <td>1298.947553</td>\n",
       "      <td>1299.313305</td>\n",
       "      <td>1297.746768</td>\n",
       "      <td>1312.536578</td>\n",
       "      <td>1319.994078</td>\n",
       "      <td>1231.861953</td>\n",
       "      <td>1251.403327</td>\n",
       "      <td>1247.327510</td>\n",
       "      <td>1258.533427</td>\n",
       "      <td>1235.854287</td>\n",
       "      <td>1225.507206</td>\n",
       "      <td>1244.025947</td>\n",
       "      <td>1249.422907</td>\n",
       "      <td>1216.392867</td>\n",
       "      <td>1227.302008</td>\n",
       "    </tr>\n",
       "    <tr>\n",
       "      <th>A381</th>\n",
       "      <td>1319.865880</td>\n",
       "      <td>1311.512122</td>\n",
       "      <td>1309.966652</td>\n",
       "      <td>1317.631930</td>\n",
       "      <td>1322.791563</td>\n",
       "      <td>1323.693723</td>\n",
       "      <td>1333.297816</td>\n",
       "      <td>1293.606707</td>\n",
       "      <td>1327.975269</td>\n",
       "      <td>1320.942896</td>\n",
       "      <td>1277.759025</td>\n",
       "      <td>1275.090157</td>\n",
       "      <td>1271.335132</td>\n",
       "      <td>1263.923433</td>\n",
       "      <td>1272.478293</td>\n",
       "      <td>1260.217042</td>\n",
       "      <td>1262.191640</td>\n",
       "      <td>1263.386397</td>\n",
       "      <td>1251.565150</td>\n",
       "      <td>1262.288580</td>\n",
       "    </tr>\n",
       "    <tr>\n",
       "      <th>A382</th>\n",
       "      <td>1321.264940</td>\n",
       "      <td>1324.473934</td>\n",
       "      <td>1314.943387</td>\n",
       "      <td>1316.369157</td>\n",
       "      <td>1335.883518</td>\n",
       "      <td>1321.850028</td>\n",
       "      <td>1313.873227</td>\n",
       "      <td>1322.918362</td>\n",
       "      <td>1302.809126</td>\n",
       "      <td>1312.389190</td>\n",
       "      <td>1254.505504</td>\n",
       "      <td>1271.629413</td>\n",
       "      <td>1267.737496</td>\n",
       "      <td>1261.247836</td>\n",
       "      <td>1263.905739</td>\n",
       "      <td>1246.328890</td>\n",
       "      <td>1258.096325</td>\n",
       "      <td>1250.640470</td>\n",
       "      <td>1246.653764</td>\n",
       "      <td>1273.303317</td>\n",
       "    </tr>\n",
       "    <tr>\n",
       "      <th>A383</th>\n",
       "      <td>1337.730075</td>\n",
       "      <td>1340.616437</td>\n",
       "      <td>1341.769432</td>\n",
       "      <td>1338.603084</td>\n",
       "      <td>1338.884454</td>\n",
       "      <td>1337.762267</td>\n",
       "      <td>1335.663233</td>\n",
       "      <td>1340.110830</td>\n",
       "      <td>1337.765291</td>\n",
       "      <td>1336.436643</td>\n",
       "      <td>1276.186979</td>\n",
       "      <td>1279.098278</td>\n",
       "      <td>1280.142812</td>\n",
       "      <td>1278.454116</td>\n",
       "      <td>1281.508663</td>\n",
       "      <td>1279.243636</td>\n",
       "      <td>1275.941138</td>\n",
       "      <td>1277.377168</td>\n",
       "      <td>1277.483364</td>\n",
       "      <td>1279.038428</td>\n",
       "    </tr>\n",
       "    <tr>\n",
       "      <th>A384</th>\n",
       "      <td>1291.103645</td>\n",
       "      <td>1309.349302</td>\n",
       "      <td>1288.512017</td>\n",
       "      <td>1326.567429</td>\n",
       "      <td>1315.703502</td>\n",
       "      <td>1318.297898</td>\n",
       "      <td>1285.845861</td>\n",
       "      <td>1300.032041</td>\n",
       "      <td>1311.861446</td>\n",
       "      <td>1309.989116</td>\n",
       "      <td>1273.298631</td>\n",
       "      <td>1242.570855</td>\n",
       "      <td>1242.721925</td>\n",
       "      <td>1255.473226</td>\n",
       "      <td>1253.327017</td>\n",
       "      <td>1258.251659</td>\n",
       "      <td>1239.935225</td>\n",
       "      <td>1268.140823</td>\n",
       "      <td>1245.684466</td>\n",
       "      <td>1262.877946</td>\n",
       "    </tr>\n",
       "  </tbody>\n",
       "</table>\n",
       "</div>"
      ],
      "text/plain": [
       "               S0           S1           S2           S3           S4  \\\n",
       "A375  1289.884588  1352.221385  1309.759608  1327.390776  1334.051887   \n",
       "A376  1316.820696  1330.257087  1310.743585  1324.079660  1316.984404   \n",
       "A377  1341.794567  1342.728338  1343.310928  1340.863258  1344.045378   \n",
       "A378  1332.641007  1332.608839  1333.381744  1333.038584  1333.153627   \n",
       "A379  1329.521502  1321.779244  1322.721706  1309.723440  1332.059528   \n",
       "A380  1324.333198  1330.561363  1298.390280  1347.793252  1306.113679   \n",
       "A381  1319.865880  1311.512122  1309.966652  1317.631930  1322.791563   \n",
       "A382  1321.264940  1324.473934  1314.943387  1316.369157  1335.883518   \n",
       "A383  1337.730075  1340.616437  1341.769432  1338.603084  1338.884454   \n",
       "A384  1291.103645  1309.349302  1288.512017  1326.567429  1315.703502   \n",
       "\n",
       "               S5           S6           S7           S8           S9  \\\n",
       "A375  1337.930460  1351.169012  1346.176773  1353.483923  1305.039661   \n",
       "A376  1324.650957  1313.952312  1308.282999  1311.527151  1322.934932   \n",
       "A377  1342.855602  1343.289117  1342.611470  1343.809108  1344.192860   \n",
       "A378  1332.057053  1331.635599  1333.550383  1331.998051  1332.697912   \n",
       "A379  1323.237750  1314.881080  1320.994012  1321.487281  1318.344750   \n",
       "A380  1298.947553  1299.313305  1297.746768  1312.536578  1319.994078   \n",
       "A381  1323.693723  1333.297816  1293.606707  1327.975269  1320.942896   \n",
       "A382  1321.850028  1313.873227  1322.918362  1302.809126  1312.389190   \n",
       "A383  1337.762267  1335.663233  1340.110830  1337.765291  1336.436643   \n",
       "A384  1318.297898  1285.845861  1300.032041  1311.861446  1309.989116   \n",
       "\n",
       "              S10          S11          S12          S13          S14  \\\n",
       "A375  1237.623801  1231.265472  1247.908816  1272.553242  1280.258317   \n",
       "A376  1255.443478  1254.154043  1259.105651  1248.970647  1273.004336   \n",
       "A377  1282.169417  1282.746680  1282.337149  1281.866610  1281.684609   \n",
       "A378  1269.997654  1270.391603  1271.212745  1270.421521  1270.419244   \n",
       "A379  1267.135220  1253.541182  1257.540093  1260.172730  1260.869263   \n",
       "A380  1231.861953  1251.403327  1247.327510  1258.533427  1235.854287   \n",
       "A381  1277.759025  1275.090157  1271.335132  1263.923433  1272.478293   \n",
       "A382  1254.505504  1271.629413  1267.737496  1261.247836  1263.905739   \n",
       "A383  1276.186979  1279.098278  1280.142812  1278.454116  1281.508663   \n",
       "A384  1273.298631  1242.570855  1242.721925  1255.473226  1253.327017   \n",
       "\n",
       "              S15          S16          S17          S18          S19  \n",
       "A375  1279.186572  1271.830017  1267.082044  1291.176919  1274.841449  \n",
       "A376  1249.367985  1247.551526  1263.448690  1234.272366  1263.829252  \n",
       "A377  1282.531104  1281.333598  1279.579990  1281.936016  1281.528500  \n",
       "A378  1270.962460  1271.446854  1271.458918  1270.650107  1270.851502  \n",
       "A379  1258.681056  1262.166899  1250.853962  1267.741021  1258.913105  \n",
       "A380  1225.507206  1244.025947  1249.422907  1216.392867  1227.302008  \n",
       "A381  1260.217042  1262.191640  1263.386397  1251.565150  1262.288580  \n",
       "A382  1246.328890  1258.096325  1250.640470  1246.653764  1273.303317  \n",
       "A383  1279.243636  1275.941138  1277.377168  1277.483364  1279.038428  \n",
       "A384  1258.251659  1239.935225  1268.140823  1245.684466  1262.877946  "
      ]
     },
     "execution_count": 105,
     "metadata": {},
     "output_type": "execute_result"
    }
   ],
   "source": [
    "my_protein_quants = quants[w]\n",
    "my_protein_quants"
   ]
  },
  {
   "cell_type": "markdown",
   "metadata": {
    "slideshow": {
     "slide_type": "slide"
    }
   },
   "source": [
    "## Boxplot\n",
    "\n",
    "Finally, we'll plot some information for our chosen *protein*:"
   ]
  },
  {
   "cell_type": "code",
   "execution_count": 70,
   "metadata": {
    "slideshow": {
     "slide_type": "fragment"
    }
   },
   "outputs": [],
   "source": [
    "from matplotlib.pyplot import boxplot, show"
   ]
  },
  {
   "cell_type": "code",
   "execution_count": 81,
   "metadata": {
    "slideshow": {
     "slide_type": "fragment"
    },
    "tutorial": {
     "output": "subslide"
    }
   },
   "outputs": [
    {
     "data": {
      "image/png": "[encoded data removed]",
      "text/plain": [
       "<Figure size 720x720 with 1 Axes>"
      ]
     },
     "metadata": {
      "needs_background": "light"
     },
     "output_type": "display_data"
    }
   ],
   "source": [
    "boxplot( my_protein_quants )  \n",
    "show()"
   ]
  },
  {
   "cell_type": "markdown",
   "metadata": {
    "slideshow": {
     "slide_type": "-"
    }
   },
   "source": [
    "**WRONG!**\n",
    "\n",
    "A box plot is for normally distributed data. Our data isn't, let's use a violin plot instead..."
   ]
  },
  {
   "cell_type": "markdown",
   "metadata": {
    "slideshow": {
     "slide_type": "slide"
    }
   },
   "source": [
    "## Violin plot"
   ]
  },
  {
   "cell_type": "code",
   "execution_count": 69,
   "metadata": {
    "slideshow": {
     "slide_type": "fragment"
    }
   },
   "outputs": [],
   "source": [
    "from matplotlib.pyplot import show\n",
    "from seaborn import violinplot"
   ]
  },
  {
   "cell_type": "code",
   "execution_count": 82,
   "metadata": {
    "slideshow": {
     "slide_type": "fragment"
    },
    "tutorial": {
     "output": "subslide"
    }
   },
   "outputs": [
    {
     "data": {
      "image/png": "[encoded data removed]",
      "text/plain": [
       "<Figure size 720x720 with 1 Axes>"
      ]
     },
     "metadata": {
      "needs_background": "light"
     },
     "output_type": "display_data"
    }
   ],
   "source": [
    "violinplot( data = my_protein_quants )  \n",
    "show()"
   ]
  },
  {
   "cell_type": "markdown",
   "metadata": {
    "slideshow": {
     "slide_type": "-"
    }
   },
   "source": [
    "**WRONG!**\n",
    "\n",
    "It's the wrong way around (we have a violin per sample, not per peptide!) `pyplot` assumes the columns are the samples, but `seaborn` assumes the samples are the rows! No worries, we just need to `transpose` to fix this:"
   ]
  },
  {
   "cell_type": "code",
   "execution_count": 83,
   "metadata": {
    "slideshow": {
     "slide_type": "subslide"
    },
    "tutorial": {
     "output": "subslide"
    }
   },
   "outputs": [
    {
     "data": {
      "image/png": "[encoded data removed]",
      "text/plain": [
       "<Figure size 720x720 with 1 Axes>"
      ]
     },
     "metadata": {
      "needs_background": "light"
     },
     "output_type": "display_data"
    }
   ],
   "source": [
    "violinplot( data = my_protein_quants.transpose() )  \n",
    "show()"
   ]
  },
  {
   "cell_type": "markdown",
   "metadata": {
    "slideshow": {
     "slide_type": "-"
    }
   },
   "source": [
    "There are *two* conditions per peptide, the **extra material** goes on *join* our data with our meta-data and colour our plot by these conditions."
   ]
  },
  {
   "cell_type": "markdown",
   "metadata": {
    "slideshow": {
     "slide_type": "slide"
    }
   },
   "source": [
    "## Wide to long\n",
    "\n",
    "<-- EXTRA -->"
   ]
  },
  {
   "cell_type": "markdown",
   "metadata": {
    "slideshow": {
     "slide_type": "fragment"
    }
   },
   "source": [
    "We could go about making our own matrix and setting colours again, but most plotting libraries will do this for us.\n",
    "However, we need to include extra information in the data.\n",
    "Right now our data is in a matrix.\n",
    "This isn't very helpful since we can't \"put\" any more data in a cell."
   ]
  },
  {
   "cell_type": "code",
   "execution_count": 84,
   "metadata": {
    "slideshow": {
     "slide_type": "fragment"
    }
   },
   "outputs": [
    {
     "data": {
      "text/html": [
       "<div>\n",
       "<style scoped>\n",
       "    .dataframe tbody tr th:only-of-type {\n",
       "        vertical-align: middle;\n",
       "    }\n",
       "\n",
       "    .dataframe tbody tr th {\n",
       "        vertical-align: top;\n",
       "    }\n",
       "\n",
       "    .dataframe thead th {\n",
       "        text-align: right;\n",
       "    }\n",
       "</style>\n",
       "<table border=\"1\" class=\"dataframe\">\n",
       "  <thead>\n",
       "    <tr style=\"text-align: right;\">\n",
       "      <th></th>\n",
       "      <th>S0</th>\n",
       "      <th>S1</th>\n",
       "      <th>S2</th>\n",
       "      <th>S3</th>\n",
       "      <th>S4</th>\n",
       "      <th>S5</th>\n",
       "      <th>S6</th>\n",
       "      <th>S7</th>\n",
       "      <th>S8</th>\n",
       "      <th>S9</th>\n",
       "      <th>S10</th>\n",
       "      <th>S11</th>\n",
       "      <th>S12</th>\n",
       "      <th>S13</th>\n",
       "      <th>S14</th>\n",
       "      <th>S15</th>\n",
       "      <th>S16</th>\n",
       "      <th>S17</th>\n",
       "      <th>S18</th>\n",
       "      <th>S19</th>\n",
       "    </tr>\n",
       "  </thead>\n",
       "  <tbody>\n",
       "    <tr>\n",
       "      <th>A375</th>\n",
       "      <td>1289.884588</td>\n",
       "      <td>1352.221385</td>\n",
       "      <td>1309.759608</td>\n",
       "      <td>1327.390776</td>\n",
       "      <td>1334.051887</td>\n",
       "      <td>1337.930460</td>\n",
       "      <td>1351.169012</td>\n",
       "      <td>1346.176773</td>\n",
       "      <td>1353.483923</td>\n",
       "      <td>1305.039661</td>\n",
       "      <td>1237.623801</td>\n",
       "      <td>1231.265472</td>\n",
       "      <td>1247.908816</td>\n",
       "      <td>1272.553242</td>\n",
       "      <td>1280.258317</td>\n",
       "      <td>1279.186572</td>\n",
       "      <td>1271.830017</td>\n",
       "      <td>1267.082044</td>\n",
       "      <td>1291.176919</td>\n",
       "      <td>1274.841449</td>\n",
       "    </tr>\n",
       "    <tr>\n",
       "      <th>A376</th>\n",
       "      <td>1316.820696</td>\n",
       "      <td>1330.257087</td>\n",
       "      <td>1310.743585</td>\n",
       "      <td>1324.079660</td>\n",
       "      <td>1316.984404</td>\n",
       "      <td>1324.650957</td>\n",
       "      <td>1313.952312</td>\n",
       "      <td>1308.282999</td>\n",
       "      <td>1311.527151</td>\n",
       "      <td>1322.934932</td>\n",
       "      <td>1255.443478</td>\n",
       "      <td>1254.154043</td>\n",
       "      <td>1259.105651</td>\n",
       "      <td>1248.970647</td>\n",
       "      <td>1273.004336</td>\n",
       "      <td>1249.367985</td>\n",
       "      <td>1247.551526</td>\n",
       "      <td>1263.448690</td>\n",
       "      <td>1234.272366</td>\n",
       "      <td>1263.829252</td>\n",
       "    </tr>\n",
       "    <tr>\n",
       "      <th>A377</th>\n",
       "      <td>1341.794567</td>\n",
       "      <td>1342.728338</td>\n",
       "      <td>1343.310928</td>\n",
       "      <td>1340.863258</td>\n",
       "      <td>1344.045378</td>\n",
       "      <td>1342.855602</td>\n",
       "      <td>1343.289117</td>\n",
       "      <td>1342.611470</td>\n",
       "      <td>1343.809108</td>\n",
       "      <td>1344.192860</td>\n",
       "      <td>1282.169417</td>\n",
       "      <td>1282.746680</td>\n",
       "      <td>1282.337149</td>\n",
       "      <td>1281.866610</td>\n",
       "      <td>1281.684609</td>\n",
       "      <td>1282.531104</td>\n",
       "      <td>1281.333598</td>\n",
       "      <td>1279.579990</td>\n",
       "      <td>1281.936016</td>\n",
       "      <td>1281.528500</td>\n",
       "    </tr>\n",
       "    <tr>\n",
       "      <th>A378</th>\n",
       "      <td>1332.641007</td>\n",
       "      <td>1332.608839</td>\n",
       "      <td>1333.381744</td>\n",
       "      <td>1333.038584</td>\n",
       "      <td>1333.153627</td>\n",
       "      <td>1332.057053</td>\n",
       "      <td>1331.635599</td>\n",
       "      <td>1333.550383</td>\n",
       "      <td>1331.998051</td>\n",
       "      <td>1332.697912</td>\n",
       "      <td>1269.997654</td>\n",
       "      <td>1270.391603</td>\n",
       "      <td>1271.212745</td>\n",
       "      <td>1270.421521</td>\n",
       "      <td>1270.419244</td>\n",
       "      <td>1270.962460</td>\n",
       "      <td>1271.446854</td>\n",
       "      <td>1271.458918</td>\n",
       "      <td>1270.650107</td>\n",
       "      <td>1270.851502</td>\n",
       "    </tr>\n",
       "    <tr>\n",
       "      <th>A379</th>\n",
       "      <td>1329.521502</td>\n",
       "      <td>1321.779244</td>\n",
       "      <td>1322.721706</td>\n",
       "      <td>1309.723440</td>\n",
       "      <td>1332.059528</td>\n",
       "      <td>1323.237750</td>\n",
       "      <td>1314.881080</td>\n",
       "      <td>1320.994012</td>\n",
       "      <td>1321.487281</td>\n",
       "      <td>1318.344750</td>\n",
       "      <td>1267.135220</td>\n",
       "      <td>1253.541182</td>\n",
       "      <td>1257.540093</td>\n",
       "      <td>1260.172730</td>\n",
       "      <td>1260.869263</td>\n",
       "      <td>1258.681056</td>\n",
       "      <td>1262.166899</td>\n",
       "      <td>1250.853962</td>\n",
       "      <td>1267.741021</td>\n",
       "      <td>1258.913105</td>\n",
       "    </tr>\n",
       "    <tr>\n",
       "      <th>A380</th>\n",
       "      <td>1324.333198</td>\n",
       "      <td>1330.561363</td>\n",
       "      <td>1298.390280</td>\n",
       "      <td>1347.793252</td>\n",
       "      <td>1306.113679</td>\n",
       "      <td>1298.947553</td>\n",
       "      <td>1299.313305</td>\n",
       "      <td>1297.746768</td>\n",
       "      <td>1312.536578</td>\n",
       "      <td>1319.994078</td>\n",
       "      <td>1231.861953</td>\n",
       "      <td>1251.403327</td>\n",
       "      <td>1247.327510</td>\n",
       "      <td>1258.533427</td>\n",
       "      <td>1235.854287</td>\n",
       "      <td>1225.507206</td>\n",
       "      <td>1244.025947</td>\n",
       "      <td>1249.422907</td>\n",
       "      <td>1216.392867</td>\n",
       "      <td>1227.302008</td>\n",
       "    </tr>\n",
       "    <tr>\n",
       "      <th>A381</th>\n",
       "      <td>1319.865880</td>\n",
       "      <td>1311.512122</td>\n",
       "      <td>1309.966652</td>\n",
       "      <td>1317.631930</td>\n",
       "      <td>1322.791563</td>\n",
       "      <td>1323.693723</td>\n",
       "      <td>1333.297816</td>\n",
       "      <td>1293.606707</td>\n",
       "      <td>1327.975269</td>\n",
       "      <td>1320.942896</td>\n",
       "      <td>1277.759025</td>\n",
       "      <td>1275.090157</td>\n",
       "      <td>1271.335132</td>\n",
       "      <td>1263.923433</td>\n",
       "      <td>1272.478293</td>\n",
       "      <td>1260.217042</td>\n",
       "      <td>1262.191640</td>\n",
       "      <td>1263.386397</td>\n",
       "      <td>1251.565150</td>\n",
       "      <td>1262.288580</td>\n",
       "    </tr>\n",
       "    <tr>\n",
       "      <th>A382</th>\n",
       "      <td>1321.264940</td>\n",
       "      <td>1324.473934</td>\n",
       "      <td>1314.943387</td>\n",
       "      <td>1316.369157</td>\n",
       "      <td>1335.883518</td>\n",
       "      <td>1321.850028</td>\n",
       "      <td>1313.873227</td>\n",
       "      <td>1322.918362</td>\n",
       "      <td>1302.809126</td>\n",
       "      <td>1312.389190</td>\n",
       "      <td>1254.505504</td>\n",
       "      <td>1271.629413</td>\n",
       "      <td>1267.737496</td>\n",
       "      <td>1261.247836</td>\n",
       "      <td>1263.905739</td>\n",
       "      <td>1246.328890</td>\n",
       "      <td>1258.096325</td>\n",
       "      <td>1250.640470</td>\n",
       "      <td>1246.653764</td>\n",
       "      <td>1273.303317</td>\n",
       "    </tr>\n",
       "    <tr>\n",
       "      <th>A383</th>\n",
       "      <td>1337.730075</td>\n",
       "      <td>1340.616437</td>\n",
       "      <td>1341.769432</td>\n",
       "      <td>1338.603084</td>\n",
       "      <td>1338.884454</td>\n",
       "      <td>1337.762267</td>\n",
       "      <td>1335.663233</td>\n",
       "      <td>1340.110830</td>\n",
       "      <td>1337.765291</td>\n",
       "      <td>1336.436643</td>\n",
       "      <td>1276.186979</td>\n",
       "      <td>1279.098278</td>\n",
       "      <td>1280.142812</td>\n",
       "      <td>1278.454116</td>\n",
       "      <td>1281.508663</td>\n",
       "      <td>1279.243636</td>\n",
       "      <td>1275.941138</td>\n",
       "      <td>1277.377168</td>\n",
       "      <td>1277.483364</td>\n",
       "      <td>1279.038428</td>\n",
       "    </tr>\n",
       "    <tr>\n",
       "      <th>A384</th>\n",
       "      <td>1291.103645</td>\n",
       "      <td>1309.349302</td>\n",
       "      <td>1288.512017</td>\n",
       "      <td>1326.567429</td>\n",
       "      <td>1315.703502</td>\n",
       "      <td>1318.297898</td>\n",
       "      <td>1285.845861</td>\n",
       "      <td>1300.032041</td>\n",
       "      <td>1311.861446</td>\n",
       "      <td>1309.989116</td>\n",
       "      <td>1273.298631</td>\n",
       "      <td>1242.570855</td>\n",
       "      <td>1242.721925</td>\n",
       "      <td>1255.473226</td>\n",
       "      <td>1253.327017</td>\n",
       "      <td>1258.251659</td>\n",
       "      <td>1239.935225</td>\n",
       "      <td>1268.140823</td>\n",
       "      <td>1245.684466</td>\n",
       "      <td>1262.877946</td>\n",
       "    </tr>\n",
       "  </tbody>\n",
       "</table>\n",
       "</div>"
      ],
      "text/plain": [
       "               S0           S1           S2           S3           S4  \\\n",
       "A375  1289.884588  1352.221385  1309.759608  1327.390776  1334.051887   \n",
       "A376  1316.820696  1330.257087  1310.743585  1324.079660  1316.984404   \n",
       "A377  1341.794567  1342.728338  1343.310928  1340.863258  1344.045378   \n",
       "A378  1332.641007  1332.608839  1333.381744  1333.038584  1333.153627   \n",
       "A379  1329.521502  1321.779244  1322.721706  1309.723440  1332.059528   \n",
       "A380  1324.333198  1330.561363  1298.390280  1347.793252  1306.113679   \n",
       "A381  1319.865880  1311.512122  1309.966652  1317.631930  1322.791563   \n",
       "A382  1321.264940  1324.473934  1314.943387  1316.369157  1335.883518   \n",
       "A383  1337.730075  1340.616437  1341.769432  1338.603084  1338.884454   \n",
       "A384  1291.103645  1309.349302  1288.512017  1326.567429  1315.703502   \n",
       "\n",
       "               S5           S6           S7           S8           S9  \\\n",
       "A375  1337.930460  1351.169012  1346.176773  1353.483923  1305.039661   \n",
       "A376  1324.650957  1313.952312  1308.282999  1311.527151  1322.934932   \n",
       "A377  1342.855602  1343.289117  1342.611470  1343.809108  1344.192860   \n",
       "A378  1332.057053  1331.635599  1333.550383  1331.998051  1332.697912   \n",
       "A379  1323.237750  1314.881080  1320.994012  1321.487281  1318.344750   \n",
       "A380  1298.947553  1299.313305  1297.746768  1312.536578  1319.994078   \n",
       "A381  1323.693723  1333.297816  1293.606707  1327.975269  1320.942896   \n",
       "A382  1321.850028  1313.873227  1322.918362  1302.809126  1312.389190   \n",
       "A383  1337.762267  1335.663233  1340.110830  1337.765291  1336.436643   \n",
       "A384  1318.297898  1285.845861  1300.032041  1311.861446  1309.989116   \n",
       "\n",
       "              S10          S11          S12          S13          S14  \\\n",
       "A375  1237.623801  1231.265472  1247.908816  1272.553242  1280.258317   \n",
       "A376  1255.443478  1254.154043  1259.105651  1248.970647  1273.004336   \n",
       "A377  1282.169417  1282.746680  1282.337149  1281.866610  1281.684609   \n",
       "A378  1269.997654  1270.391603  1271.212745  1270.421521  1270.419244   \n",
       "A379  1267.135220  1253.541182  1257.540093  1260.172730  1260.869263   \n",
       "A380  1231.861953  1251.403327  1247.327510  1258.533427  1235.854287   \n",
       "A381  1277.759025  1275.090157  1271.335132  1263.923433  1272.478293   \n",
       "A382  1254.505504  1271.629413  1267.737496  1261.247836  1263.905739   \n",
       "A383  1276.186979  1279.098278  1280.142812  1278.454116  1281.508663   \n",
       "A384  1273.298631  1242.570855  1242.721925  1255.473226  1253.327017   \n",
       "\n",
       "              S15          S16          S17          S18          S19  \n",
       "A375  1279.186572  1271.830017  1267.082044  1291.176919  1274.841449  \n",
       "A376  1249.367985  1247.551526  1263.448690  1234.272366  1263.829252  \n",
       "A377  1282.531104  1281.333598  1279.579990  1281.936016  1281.528500  \n",
       "A378  1270.962460  1271.446854  1271.458918  1270.650107  1270.851502  \n",
       "A379  1258.681056  1262.166899  1250.853962  1267.741021  1258.913105  \n",
       "A380  1225.507206  1244.025947  1249.422907  1216.392867  1227.302008  \n",
       "A381  1260.217042  1262.191640  1263.386397  1251.565150  1262.288580  \n",
       "A382  1246.328890  1258.096325  1250.640470  1246.653764  1273.303317  \n",
       "A383  1279.243636  1275.941138  1277.377168  1277.483364  1279.038428  \n",
       "A384  1258.251659  1239.935225  1268.140823  1245.684466  1262.877946  "
      ]
     },
     "execution_count": 84,
     "metadata": {},
     "output_type": "execute_result"
    }
   ],
   "source": [
    "my_protein_quants"
   ]
  },
  {
   "cell_type": "markdown",
   "metadata": {
    "slideshow": {
     "slide_type": "subslide"
    }
   },
   "source": [
    "Now we can convert our data to long format..."
   ]
  },
  {
   "cell_type": "code",
   "execution_count": 85,
   "metadata": {
    "slideshow": {
     "slide_type": "fragment"
    }
   },
   "outputs": [
    {
     "data": {
      "text/html": [
       "<div>\n",
       "<style scoped>\n",
       "    .dataframe tbody tr th:only-of-type {\n",
       "        vertical-align: middle;\n",
       "    }\n",
       "\n",
       "    .dataframe tbody tr th {\n",
       "        vertical-align: top;\n",
       "    }\n",
       "\n",
       "    .dataframe thead th {\n",
       "        text-align: right;\n",
       "    }\n",
       "</style>\n",
       "<table border=\"1\" class=\"dataframe\">\n",
       "  <thead>\n",
       "    <tr style=\"text-align: right;\">\n",
       "      <th></th>\n",
       "      <th>amino</th>\n",
       "      <th>sample</th>\n",
       "      <th>quant</th>\n",
       "    </tr>\n",
       "  </thead>\n",
       "  <tbody>\n",
       "    <tr>\n",
       "      <th>0</th>\n",
       "      <td>A375</td>\n",
       "      <td>S0</td>\n",
       "      <td>1289.884588</td>\n",
       "    </tr>\n",
       "    <tr>\n",
       "      <th>1</th>\n",
       "      <td>A375</td>\n",
       "      <td>S1</td>\n",
       "      <td>1352.221385</td>\n",
       "    </tr>\n",
       "    <tr>\n",
       "      <th>2</th>\n",
       "      <td>A375</td>\n",
       "      <td>S2</td>\n",
       "      <td>1309.759608</td>\n",
       "    </tr>\n",
       "    <tr>\n",
       "      <th>3</th>\n",
       "      <td>A375</td>\n",
       "      <td>S3</td>\n",
       "      <td>1327.390776</td>\n",
       "    </tr>\n",
       "    <tr>\n",
       "      <th>4</th>\n",
       "      <td>A375</td>\n",
       "      <td>S4</td>\n",
       "      <td>1334.051887</td>\n",
       "    </tr>\n",
       "    <tr>\n",
       "      <th>...</th>\n",
       "      <td>...</td>\n",
       "      <td>...</td>\n",
       "      <td>...</td>\n",
       "    </tr>\n",
       "    <tr>\n",
       "      <th>195</th>\n",
       "      <td>A384</td>\n",
       "      <td>S15</td>\n",
       "      <td>1258.251659</td>\n",
       "    </tr>\n",
       "    <tr>\n",
       "      <th>196</th>\n",
       "      <td>A384</td>\n",
       "      <td>S16</td>\n",
       "      <td>1239.935225</td>\n",
       "    </tr>\n",
       "    <tr>\n",
       "      <th>197</th>\n",
       "      <td>A384</td>\n",
       "      <td>S17</td>\n",
       "      <td>1268.140823</td>\n",
       "    </tr>\n",
       "    <tr>\n",
       "      <th>198</th>\n",
       "      <td>A384</td>\n",
       "      <td>S18</td>\n",
       "      <td>1245.684466</td>\n",
       "    </tr>\n",
       "    <tr>\n",
       "      <th>199</th>\n",
       "      <td>A384</td>\n",
       "      <td>S19</td>\n",
       "      <td>1262.877946</td>\n",
       "    </tr>\n",
       "  </tbody>\n",
       "</table>\n",
       "<p>200 rows × 3 columns</p>\n",
       "</div>"
      ],
      "text/plain": [
       "    amino sample        quant\n",
       "0    A375     S0  1289.884588\n",
       "1    A375     S1  1352.221385\n",
       "2    A375     S2  1309.759608\n",
       "3    A375     S3  1327.390776\n",
       "4    A375     S4  1334.051887\n",
       "..    ...    ...          ...\n",
       "195  A384    S15  1258.251659\n",
       "196  A384    S16  1239.935225\n",
       "197  A384    S17  1268.140823\n",
       "198  A384    S18  1245.684466\n",
       "199  A384    S19  1262.877946\n",
       "\n",
       "[200 rows x 3 columns]"
      ]
     },
     "execution_count": 85,
     "metadata": {},
     "output_type": "execute_result"
    }
   ],
   "source": [
    "long = my_protein_quants.stack().reset_index()\n",
    "long.columns = ['amino', 'sample', 'quant']\n",
    "long"
   ]
  },
  {
   "cell_type": "markdown",
   "metadata": {
    "slideshow": {
     "slide_type": "subslide"
    }
   },
   "source": [
    "Remember our samples table?"
   ]
  },
  {
   "cell_type": "code",
   "execution_count": 86,
   "metadata": {
    "slideshow": {
     "slide_type": "fragment"
    }
   },
   "outputs": [
    {
     "data": {
      "text/html": [
       "<div>\n",
       "<style scoped>\n",
       "    .dataframe tbody tr th:only-of-type {\n",
       "        vertical-align: middle;\n",
       "    }\n",
       "\n",
       "    .dataframe tbody tr th {\n",
       "        vertical-align: top;\n",
       "    }\n",
       "\n",
       "    .dataframe thead th {\n",
       "        text-align: right;\n",
       "    }\n",
       "</style>\n",
       "<table border=\"1\" class=\"dataframe\">\n",
       "  <thead>\n",
       "    <tr style=\"text-align: right;\">\n",
       "      <th></th>\n",
       "      <th>condition_index</th>\n",
       "      <th>condition_name</th>\n",
       "      <th>patient_index</th>\n",
       "    </tr>\n",
       "  </thead>\n",
       "  <tbody>\n",
       "    <tr>\n",
       "      <th>S0</th>\n",
       "      <td>0</td>\n",
       "      <td>control</td>\n",
       "      <td>0</td>\n",
       "    </tr>\n",
       "    <tr>\n",
       "      <th>S1</th>\n",
       "      <td>0</td>\n",
       "      <td>control</td>\n",
       "      <td>1</td>\n",
       "    </tr>\n",
       "    <tr>\n",
       "      <th>S2</th>\n",
       "      <td>0</td>\n",
       "      <td>control</td>\n",
       "      <td>2</td>\n",
       "    </tr>\n",
       "    <tr>\n",
       "      <th>S3</th>\n",
       "      <td>0</td>\n",
       "      <td>control</td>\n",
       "      <td>3</td>\n",
       "    </tr>\n",
       "    <tr>\n",
       "      <th>S4</th>\n",
       "      <td>0</td>\n",
       "      <td>control</td>\n",
       "      <td>4</td>\n",
       "    </tr>\n",
       "    <tr>\n",
       "      <th>S5</th>\n",
       "      <td>0</td>\n",
       "      <td>control</td>\n",
       "      <td>5</td>\n",
       "    </tr>\n",
       "    <tr>\n",
       "      <th>S6</th>\n",
       "      <td>0</td>\n",
       "      <td>control</td>\n",
       "      <td>6</td>\n",
       "    </tr>\n",
       "    <tr>\n",
       "      <th>S7</th>\n",
       "      <td>0</td>\n",
       "      <td>control</td>\n",
       "      <td>7</td>\n",
       "    </tr>\n",
       "    <tr>\n",
       "      <th>S8</th>\n",
       "      <td>0</td>\n",
       "      <td>control</td>\n",
       "      <td>8</td>\n",
       "    </tr>\n",
       "    <tr>\n",
       "      <th>S9</th>\n",
       "      <td>0</td>\n",
       "      <td>control</td>\n",
       "      <td>9</td>\n",
       "    </tr>\n",
       "    <tr>\n",
       "      <th>S10</th>\n",
       "      <td>1</td>\n",
       "      <td>treatment</td>\n",
       "      <td>0</td>\n",
       "    </tr>\n",
       "    <tr>\n",
       "      <th>S11</th>\n",
       "      <td>1</td>\n",
       "      <td>treatment</td>\n",
       "      <td>1</td>\n",
       "    </tr>\n",
       "    <tr>\n",
       "      <th>S12</th>\n",
       "      <td>1</td>\n",
       "      <td>treatment</td>\n",
       "      <td>2</td>\n",
       "    </tr>\n",
       "    <tr>\n",
       "      <th>S13</th>\n",
       "      <td>1</td>\n",
       "      <td>treatment</td>\n",
       "      <td>3</td>\n",
       "    </tr>\n",
       "    <tr>\n",
       "      <th>S14</th>\n",
       "      <td>1</td>\n",
       "      <td>treatment</td>\n",
       "      <td>4</td>\n",
       "    </tr>\n",
       "    <tr>\n",
       "      <th>S15</th>\n",
       "      <td>1</td>\n",
       "      <td>treatment</td>\n",
       "      <td>5</td>\n",
       "    </tr>\n",
       "    <tr>\n",
       "      <th>S16</th>\n",
       "      <td>1</td>\n",
       "      <td>treatment</td>\n",
       "      <td>6</td>\n",
       "    </tr>\n",
       "    <tr>\n",
       "      <th>S17</th>\n",
       "      <td>1</td>\n",
       "      <td>treatment</td>\n",
       "      <td>7</td>\n",
       "    </tr>\n",
       "    <tr>\n",
       "      <th>S18</th>\n",
       "      <td>1</td>\n",
       "      <td>treatment</td>\n",
       "      <td>8</td>\n",
       "    </tr>\n",
       "    <tr>\n",
       "      <th>S19</th>\n",
       "      <td>1</td>\n",
       "      <td>treatment</td>\n",
       "      <td>9</td>\n",
       "    </tr>\n",
       "  </tbody>\n",
       "</table>\n",
       "</div>"
      ],
      "text/plain": [
       "     condition_index condition_name  patient_index\n",
       "S0                 0        control              0\n",
       "S1                 0        control              1\n",
       "S2                 0        control              2\n",
       "S3                 0        control              3\n",
       "S4                 0        control              4\n",
       "S5                 0        control              5\n",
       "S6                 0        control              6\n",
       "S7                 0        control              7\n",
       "S8                 0        control              8\n",
       "S9                 0        control              9\n",
       "S10                1      treatment              0\n",
       "S11                1      treatment              1\n",
       "S12                1      treatment              2\n",
       "S13                1      treatment              3\n",
       "S14                1      treatment              4\n",
       "S15                1      treatment              5\n",
       "S16                1      treatment              6\n",
       "S17                1      treatment              7\n",
       "S18                1      treatment              8\n",
       "S19                1      treatment              9"
      ]
     },
     "execution_count": 86,
     "metadata": {},
     "output_type": "execute_result"
    }
   ],
   "source": [
    "samples"
   ]
  },
  {
   "cell_type": "markdown",
   "metadata": {
    "slideshow": {
     "slide_type": "subslide"
    }
   },
   "source": [
    "We can join these tables together now."
   ]
  },
  {
   "cell_type": "code",
   "execution_count": 87,
   "metadata": {
    "slideshow": {
     "slide_type": "fragment"
    }
   },
   "outputs": [
    {
     "data": {
      "text/html": [
       "<div>\n",
       "<style scoped>\n",
       "    .dataframe tbody tr th:only-of-type {\n",
       "        vertical-align: middle;\n",
       "    }\n",
       "\n",
       "    .dataframe tbody tr th {\n",
       "        vertical-align: top;\n",
       "    }\n",
       "\n",
       "    .dataframe thead th {\n",
       "        text-align: right;\n",
       "    }\n",
       "</style>\n",
       "<table border=\"1\" class=\"dataframe\">\n",
       "  <thead>\n",
       "    <tr style=\"text-align: right;\">\n",
       "      <th></th>\n",
       "      <th>amino</th>\n",
       "      <th>sample</th>\n",
       "      <th>quant</th>\n",
       "      <th>condition_index</th>\n",
       "      <th>condition_name</th>\n",
       "      <th>patient_index</th>\n",
       "    </tr>\n",
       "  </thead>\n",
       "  <tbody>\n",
       "    <tr>\n",
       "      <th>0</th>\n",
       "      <td>A375</td>\n",
       "      <td>S0</td>\n",
       "      <td>1289.884588</td>\n",
       "      <td>0</td>\n",
       "      <td>control</td>\n",
       "      <td>0</td>\n",
       "    </tr>\n",
       "    <tr>\n",
       "      <th>1</th>\n",
       "      <td>A375</td>\n",
       "      <td>S1</td>\n",
       "      <td>1352.221385</td>\n",
       "      <td>0</td>\n",
       "      <td>control</td>\n",
       "      <td>1</td>\n",
       "    </tr>\n",
       "    <tr>\n",
       "      <th>2</th>\n",
       "      <td>A375</td>\n",
       "      <td>S2</td>\n",
       "      <td>1309.759608</td>\n",
       "      <td>0</td>\n",
       "      <td>control</td>\n",
       "      <td>2</td>\n",
       "    </tr>\n",
       "    <tr>\n",
       "      <th>3</th>\n",
       "      <td>A375</td>\n",
       "      <td>S3</td>\n",
       "      <td>1327.390776</td>\n",
       "      <td>0</td>\n",
       "      <td>control</td>\n",
       "      <td>3</td>\n",
       "    </tr>\n",
       "    <tr>\n",
       "      <th>4</th>\n",
       "      <td>A375</td>\n",
       "      <td>S4</td>\n",
       "      <td>1334.051887</td>\n",
       "      <td>0</td>\n",
       "      <td>control</td>\n",
       "      <td>4</td>\n",
       "    </tr>\n",
       "    <tr>\n",
       "      <th>...</th>\n",
       "      <td>...</td>\n",
       "      <td>...</td>\n",
       "      <td>...</td>\n",
       "      <td>...</td>\n",
       "      <td>...</td>\n",
       "      <td>...</td>\n",
       "    </tr>\n",
       "    <tr>\n",
       "      <th>195</th>\n",
       "      <td>A384</td>\n",
       "      <td>S15</td>\n",
       "      <td>1258.251659</td>\n",
       "      <td>1</td>\n",
       "      <td>treatment</td>\n",
       "      <td>5</td>\n",
       "    </tr>\n",
       "    <tr>\n",
       "      <th>196</th>\n",
       "      <td>A384</td>\n",
       "      <td>S16</td>\n",
       "      <td>1239.935225</td>\n",
       "      <td>1</td>\n",
       "      <td>treatment</td>\n",
       "      <td>6</td>\n",
       "    </tr>\n",
       "    <tr>\n",
       "      <th>197</th>\n",
       "      <td>A384</td>\n",
       "      <td>S17</td>\n",
       "      <td>1268.140823</td>\n",
       "      <td>1</td>\n",
       "      <td>treatment</td>\n",
       "      <td>7</td>\n",
       "    </tr>\n",
       "    <tr>\n",
       "      <th>198</th>\n",
       "      <td>A384</td>\n",
       "      <td>S18</td>\n",
       "      <td>1245.684466</td>\n",
       "      <td>1</td>\n",
       "      <td>treatment</td>\n",
       "      <td>8</td>\n",
       "    </tr>\n",
       "    <tr>\n",
       "      <th>199</th>\n",
       "      <td>A384</td>\n",
       "      <td>S19</td>\n",
       "      <td>1262.877946</td>\n",
       "      <td>1</td>\n",
       "      <td>treatment</td>\n",
       "      <td>9</td>\n",
       "    </tr>\n",
       "  </tbody>\n",
       "</table>\n",
       "<p>200 rows × 6 columns</p>\n",
       "</div>"
      ],
      "text/plain": [
       "    amino sample        quant  condition_index condition_name  patient_index\n",
       "0    A375     S0  1289.884588                0        control              0\n",
       "1    A375     S1  1352.221385                0        control              1\n",
       "2    A375     S2  1309.759608                0        control              2\n",
       "3    A375     S3  1327.390776                0        control              3\n",
       "4    A375     S4  1334.051887                0        control              4\n",
       "..    ...    ...          ...              ...            ...            ...\n",
       "195  A384    S15  1258.251659                1      treatment              5\n",
       "196  A384    S16  1239.935225                1      treatment              6\n",
       "197  A384    S17  1268.140823                1      treatment              7\n",
       "198  A384    S18  1245.684466                1      treatment              8\n",
       "199  A384    S19  1262.877946                1      treatment              9\n",
       "\n",
       "[200 rows x 6 columns]"
      ]
     },
     "execution_count": 87,
     "metadata": {},
     "output_type": "execute_result"
    }
   ],
   "source": [
    "long2 = long.join( other = samples, on = \"sample\" )\n",
    "long2"
   ]
  },
  {
   "cell_type": "markdown",
   "metadata": {
    "slideshow": {
     "slide_type": "subslide"
    }
   },
   "source": [
    "Finally, we can plot the results."
   ]
  },
  {
   "cell_type": "code",
   "execution_count": 88,
   "metadata": {
    "slideshow": {
     "slide_type": "fragment"
    }
   },
   "outputs": [
    {
     "data": {
      "image/png": "[encoded data removed]",
      "text/plain": [
       "<Figure size 720x720 with 1 Axes>"
      ]
     },
     "metadata": {
      "needs_background": "light"
     },
     "output_type": "display_data"
    }
   ],
   "source": [
    "from seaborn import violinplot, swarmplot\n",
    "violinplot( x = \"amino\", y = \"quant\", hue = \"condition_name\", data = long2, split = True )  \n",
    "swarmplot(  x = \"amino\", y = \"quant\", hue = \"condition_name\", data = long2, dodge = True )  \n",
    "pyplot.show()"
   ]
  },
  {
   "cell_type": "markdown",
   "metadata": {
    "slideshow": {
     "slide_type": "subslide"
    }
   },
   "source": [
    "Aside: We can *join* manually too..."
   ]
  },
  {
   "cell_type": "code",
   "execution_count": 89,
   "metadata": {
    "slideshow": {
     "slide_type": "fragment"
    }
   },
   "outputs": [
    {
     "data": {
      "text/html": [
       "<div>\n",
       "<style scoped>\n",
       "    .dataframe tbody tr th:only-of-type {\n",
       "        vertical-align: middle;\n",
       "    }\n",
       "\n",
       "    .dataframe tbody tr th {\n",
       "        vertical-align: top;\n",
       "    }\n",
       "\n",
       "    .dataframe thead th {\n",
       "        text-align: right;\n",
       "    }\n",
       "</style>\n",
       "<table border=\"1\" class=\"dataframe\">\n",
       "  <thead>\n",
       "    <tr style=\"text-align: right;\">\n",
       "      <th></th>\n",
       "      <th>0</th>\n",
       "      <th>1</th>\n",
       "      <th>2</th>\n",
       "      <th>3</th>\n",
       "      <th>4</th>\n",
       "      <th>5</th>\n",
       "      <th>6</th>\n",
       "      <th>7</th>\n",
       "    </tr>\n",
       "  </thead>\n",
       "  <tbody>\n",
       "    <tr>\n",
       "      <th>0</th>\n",
       "      <td>0</td>\n",
       "      <td>A375</td>\n",
       "      <td>S0</td>\n",
       "      <td>1289.884588</td>\n",
       "      <td>S0</td>\n",
       "      <td>0</td>\n",
       "      <td>control</td>\n",
       "      <td>0</td>\n",
       "    </tr>\n",
       "    <tr>\n",
       "      <th>1</th>\n",
       "      <td>1</td>\n",
       "      <td>A375</td>\n",
       "      <td>S1</td>\n",
       "      <td>1352.221385</td>\n",
       "      <td>S1</td>\n",
       "      <td>0</td>\n",
       "      <td>control</td>\n",
       "      <td>1</td>\n",
       "    </tr>\n",
       "    <tr>\n",
       "      <th>2</th>\n",
       "      <td>2</td>\n",
       "      <td>A375</td>\n",
       "      <td>S2</td>\n",
       "      <td>1309.759608</td>\n",
       "      <td>S2</td>\n",
       "      <td>0</td>\n",
       "      <td>control</td>\n",
       "      <td>2</td>\n",
       "    </tr>\n",
       "    <tr>\n",
       "      <th>3</th>\n",
       "      <td>3</td>\n",
       "      <td>A375</td>\n",
       "      <td>S3</td>\n",
       "      <td>1327.390776</td>\n",
       "      <td>S3</td>\n",
       "      <td>0</td>\n",
       "      <td>control</td>\n",
       "      <td>3</td>\n",
       "    </tr>\n",
       "    <tr>\n",
       "      <th>4</th>\n",
       "      <td>4</td>\n",
       "      <td>A375</td>\n",
       "      <td>S4</td>\n",
       "      <td>1334.051887</td>\n",
       "      <td>S4</td>\n",
       "      <td>0</td>\n",
       "      <td>control</td>\n",
       "      <td>4</td>\n",
       "    </tr>\n",
       "    <tr>\n",
       "      <th>...</th>\n",
       "      <td>...</td>\n",
       "      <td>...</td>\n",
       "      <td>...</td>\n",
       "      <td>...</td>\n",
       "      <td>...</td>\n",
       "      <td>...</td>\n",
       "      <td>...</td>\n",
       "      <td>...</td>\n",
       "    </tr>\n",
       "    <tr>\n",
       "      <th>195</th>\n",
       "      <td>195</td>\n",
       "      <td>A384</td>\n",
       "      <td>S15</td>\n",
       "      <td>1258.251659</td>\n",
       "      <td>S15</td>\n",
       "      <td>1</td>\n",
       "      <td>treatment</td>\n",
       "      <td>5</td>\n",
       "    </tr>\n",
       "    <tr>\n",
       "      <th>196</th>\n",
       "      <td>196</td>\n",
       "      <td>A384</td>\n",
       "      <td>S16</td>\n",
       "      <td>1239.935225</td>\n",
       "      <td>S16</td>\n",
       "      <td>1</td>\n",
       "      <td>treatment</td>\n",
       "      <td>6</td>\n",
       "    </tr>\n",
       "    <tr>\n",
       "      <th>197</th>\n",
       "      <td>197</td>\n",
       "      <td>A384</td>\n",
       "      <td>S17</td>\n",
       "      <td>1268.140823</td>\n",
       "      <td>S17</td>\n",
       "      <td>1</td>\n",
       "      <td>treatment</td>\n",
       "      <td>7</td>\n",
       "    </tr>\n",
       "    <tr>\n",
       "      <th>198</th>\n",
       "      <td>198</td>\n",
       "      <td>A384</td>\n",
       "      <td>S18</td>\n",
       "      <td>1245.684466</td>\n",
       "      <td>S18</td>\n",
       "      <td>1</td>\n",
       "      <td>treatment</td>\n",
       "      <td>8</td>\n",
       "    </tr>\n",
       "    <tr>\n",
       "      <th>199</th>\n",
       "      <td>199</td>\n",
       "      <td>A384</td>\n",
       "      <td>S19</td>\n",
       "      <td>1262.877946</td>\n",
       "      <td>S19</td>\n",
       "      <td>1</td>\n",
       "      <td>treatment</td>\n",
       "      <td>9</td>\n",
       "    </tr>\n",
       "  </tbody>\n",
       "</table>\n",
       "<p>200 rows × 8 columns</p>\n",
       "</div>"
      ],
      "text/plain": [
       "       0     1    2            3    4  5          6  7\n",
       "0      0  A375   S0  1289.884588   S0  0    control  0\n",
       "1      1  A375   S1  1352.221385   S1  0    control  1\n",
       "2      2  A375   S2  1309.759608   S2  0    control  2\n",
       "3      3  A375   S3  1327.390776   S3  0    control  3\n",
       "4      4  A375   S4  1334.051887   S4  0    control  4\n",
       "..   ...   ...  ...          ...  ... ..        ... ..\n",
       "195  195  A384  S15  1258.251659  S15  1  treatment  5\n",
       "196  196  A384  S16  1239.935225  S16  1  treatment  6\n",
       "197  197  A384  S17  1268.140823  S17  1  treatment  7\n",
       "198  198  A384  S18  1245.684466  S18  1  treatment  8\n",
       "199  199  A384  S19  1262.877946  S19  1  treatment  9\n",
       "\n",
       "[200 rows x 8 columns]"
      ]
     },
     "execution_count": 89,
     "metadata": {},
     "output_type": "execute_result"
    }
   ],
   "source": [
    "from pandas import DataFrame\n",
    "l = long.reset_index().values.tolist()\n",
    "s = samples.reset_index().values.tolist()\n",
    "\n",
    "l2 = [x + next(y for y in s if s if y[0] == x[2]) for x in l]\n",
    "\n",
    "DataFrame( l2 )"
   ]
  },
  {
   "cell_type": "markdown",
   "metadata": {
    "slideshow": {
     "slide_type": "slide"
    }
   },
   "source": [
    "## Not covered\n",
    "\n"
   ]
  },
  {
   "cell_type": "markdown",
   "metadata": {
    "slideshow": {
     "slide_type": "fragment"
    }
   },
   "source": [
    "Control flow:\n",
    "\n",
    "* ``try`` / ``except`` *x* ``as`` *y* ``:`` / ``finally:`` / ``else:``\n",
    "* ``break`` / ``continue``:\n",
    "\n"
   ]
  },
  {
   "cell_type": "markdown",
   "metadata": {
    "slideshow": {
     "slide_type": "fragment"
    }
   },
   "source": [
    "Data types:\n",
    "\n",
    "| Type          | Example                     |\n",
    "| ------------- | --------------------------- |\n",
    "| ``tuple``     | ``(1, 2, 3)``               |\n",
    "| ``set``       | ``{1, 2, 3}``               |\n",
    "| ``frozenset`` | ``frozenset( {1, 2, 3} )``  |\n",
    "| ``range``     | ``range( 1, 10 )``          |\n",
    "| ``slice``     | ``1:10``                    |\n",
    "| ``complex``   | ``5+10j``                   |"
   ]
  },
  {
   "cell_type": "markdown",
   "metadata": {
    "slideshow": {
     "slide_type": "subslide"
    }
   },
   "source": [
    "Other packages:\n",
    "\n",
    "* ``ete``\n",
    "* ``igraph``\n",
    "* ``networkx``"
   ]
  },
  {
   "cell_type": "markdown",
   "metadata": {
    "slideshow": {
     "slide_type": "fragment"
    }
   },
   "source": [
    "IDEs:\n",
    "\n",
    "* PyCharm *(free for students)*\n",
    "* Visual Studio *(paid)*\n",
    "* Eclipse *(free)*"
   ]
  },
  {
   "cell_type": "markdown",
   "metadata": {
    "slideshow": {
     "slide_type": "fragment"
    }
   },
   "source": [
    "and much more!"
   ]
  },
  {
   "cell_type": "code",
   "execution_count": 114,
   "metadata": {
    "slideshow": {
     "slide_type": "slide"
    },
    "tutorial": {
     "output": "subslide"
    }
   },
   "outputs": [
    {
     "name": "stdout",
     "output_type": "stream",
     "text": [
      "  _______ _                 _    \r\n",
      " |__   __| |               | |   \r\n",
      "    | |  | |__   __ _ _ __ | | __\r\n",
      "    | |  | '_ \\ / _` | '_ \\| |/ /\r\n",
      "    | |  | | | | (_| | | | |   < \r\n",
      "  _ |_|  |_| |_|\\__,_|_| |_|_|\\_\\\r\n",
      " | | | |/ _ \\| | | |             \r\n",
      " | |_| | (_) | |_| |             \r\n",
      "  \\__, |\\___/ \\__,_|             \r\n",
      "   __/ |                         \r\n",
      "  |___/                          \n"
     ]
    }
   ],
   "source": [
    "print( \"  _______ _                 _    \\r\\n |__   __| |               | |   \\r\\n    | |  | |__   __ _ _ __ | | __\\r\\n    | |  | '_ \\\\ / _` | '_ \\\\| |/ /\\r\\n    | |  | | | | (_| | | | |   < \\r\\n  _ |_|  |_| |_|\\\\__,_|_| |_|_|\\\\_\\\\\\r\\n | | | |/ _ \\\\| | | |             \\r\\n | |_| | (_) | |_| |             \\r\\n  \\\\__, |\\\\___/ \\\\__,_|             \\r\\n   __/ |                         \\r\\n  |___/                          \" )"
   ]
  },
  {
   "cell_type": "code",
   "execution_count": null,
   "metadata": {
    "slideshow": {
     "slide_type": "subslide"
    }
   },
   "outputs": [],
   "source": []
  }
 ],
 "metadata": {
  "celltoolbar": "Edit Metadata",
  "kernelspec": {
   "display_name": "Python 3",
   "language": "python",
   "name": "python3"
  },
  "language_info": {
   "codemirror_mode": {
    "name": "ipython",
    "version": 3
   },
   "file_extension": ".py",
   "mimetype": "text/x-python",
   "name": "python",
   "nbconvert_exporter": "python",
   "pygments_lexer": "ipython3",
   "version": "3.7.5rc1"
  },
  "rise": {
   "theme": "sky"
  }
 },
 "nbformat": 4,
 "nbformat_minor": 4
}
